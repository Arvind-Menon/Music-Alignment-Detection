{
  "nbformat": 4,
  "nbformat_minor": 0,
  "metadata": {
    "colab": {
      "name": "Audio_emotion_csv.ipynb",
      "provenance": [],
      "collapsed_sections": []
    },
    "kernelspec": {
      "name": "python3",
      "display_name": "Python 3"
    }
  },
  "cells": [
    {
      "cell_type": "markdown",
      "metadata": {
        "id": "jHZJ4rzQLYPa",
        "colab_type": "text"
      },
      "source": [
        "# Purpose\n",
        "\n",
        "This file was used to label the audio data based on averaged static annotations and Russel's V-A model."
      ]
    },
    {
      "cell_type": "code",
      "metadata": {
        "id": "Li-7cy8oLIP2",
        "colab_type": "code",
        "colab": {}
      },
      "source": [
        "## Use the account \n",
        "## Email: arvind.final.dissertation@gmail.com\n",
        "## Password: final paper\n",
        "\n",
        "from google.colab import drive\n",
        "drive.mount('/content/drive')"
      ],
      "execution_count": null,
      "outputs": []
    },
    {
      "cell_type": "code",
      "metadata": {
        "id": "PmsASeqg3RMp",
        "colab_type": "code",
        "colab": {}
      },
      "source": [
        "import pandas as pd\n"
      ],
      "execution_count": null,
      "outputs": []
    },
    {
      "cell_type": "code",
      "metadata": {
        "id": "oWhhOErR40S4",
        "colab_type": "code",
        "colab": {}
      },
      "source": [
        "df1 = pd.read_csv(\"/content/drive/My Drive/Datasets/DEAM/static_annotations_averaged_songs_1_2000.csv\")\n"
      ],
      "execution_count": null,
      "outputs": []
    },
    {
      "cell_type": "code",
      "metadata": {
        "id": "QTf778G45FxE",
        "colab_type": "code",
        "colab": {}
      },
      "source": [
        "v_median = df1[\" valence_mean\"].median()\n",
        "a_median = df1[\" arousal_mean\"].median()"
      ],
      "execution_count": null,
      "outputs": []
    },
    {
      "cell_type": "code",
      "metadata": {
        "id": "rWJUqv7w5IDY",
        "colab_type": "code",
        "colab": {}
      },
      "source": [
        "df1[\"Mood\"] = 0*df1.shape[0]"
      ],
      "execution_count": null,
      "outputs": []
    },
    {
      "cell_type": "code",
      "metadata": {
        "id": "EnFb4L5o6kMd",
        "colab_type": "code",
        "colab": {
          "base_uri": "https://localhost:8080/",
          "height": 67
        },
        "outputId": "c4ea60a4-1ddf-4cab-daac-cc81172d7f1d"
      },
      "source": [
        "df1.keys()"
      ],
      "execution_count": null,
      "outputs": [
        {
          "output_type": "execute_result",
          "data": {
            "text/plain": [
              "Index(['song_id', ' valence_mean', ' valence_std', ' arousal_mean',\n",
              "       ' arousal_std', 'Mood'],\n",
              "      dtype='object')"
            ]
          },
          "metadata": {
            "tags": []
          },
          "execution_count": 11
        }
      ]
    },
    {
      "cell_type": "code",
      "metadata": {
        "id": "CV3kAOs96lQ2",
        "colab_type": "code",
        "colab": {
          "base_uri": "https://localhost:8080/",
          "height": 437
        },
        "outputId": "ae1abdfd-7db3-476a-c9ee-5b6a035f468f"
      },
      "source": [
        "for i in range(df1.shape[0]):\n",
        "# print(df1[\" valence_mean\"][i])\n",
        "  if (df1[\" valence_mean\"][i] > v_median and df1[\" arousal_mean\"][i] > a_median):\n",
        "    df1[\"Mood\"][i] = \"Happy\"\n",
        "  elif (df1[\" valence_mean\"][i] < v_median and df1[\" arousal_mean\"][i] < a_median):\n",
        "    df1[\"Mood\"][i] = \"Sad\"\n",
        "  elif (df1[\" valence_mean\"][i] > v_median and df1[\" arousal_mean\"][i] < a_median):\n",
        "    df1[\"Mood\"][i] = \"Relaxed\"\n",
        "  if (df1[\" valence_mean\"][i] < v_median and df1[\" arousal_mean\"][i] > a_median):\n",
        "    df1[\"Mood\"][i] = \"Angry\"    "
      ],
      "execution_count": null,
      "outputs": [
        {
          "output_type": "stream",
          "text": [
            "/usr/local/lib/python3.6/dist-packages/ipykernel_launcher.py:6: SettingWithCopyWarning: \n",
            "A value is trying to be set on a copy of a slice from a DataFrame\n",
            "\n",
            "See the caveats in the documentation: https://pandas.pydata.org/pandas-docs/stable/user_guide/indexing.html#returning-a-view-versus-a-copy\n",
            "  \n",
            "/usr/local/lib/python3.6/dist-packages/pandas/core/indexing.py:671: SettingWithCopyWarning: \n",
            "A value is trying to be set on a copy of a slice from a DataFrame\n",
            "\n",
            "See the caveats in the documentation: https://pandas.pydata.org/pandas-docs/stable/user_guide/indexing.html#returning-a-view-versus-a-copy\n",
            "  self._setitem_with_indexer(indexer, value)\n",
            "/usr/local/lib/python3.6/dist-packages/ipykernel_launcher.py:4: SettingWithCopyWarning: \n",
            "A value is trying to be set on a copy of a slice from a DataFrame\n",
            "\n",
            "See the caveats in the documentation: https://pandas.pydata.org/pandas-docs/stable/user_guide/indexing.html#returning-a-view-versus-a-copy\n",
            "  after removing the cwd from sys.path.\n",
            "/usr/local/lib/python3.6/dist-packages/ipykernel_launcher.py:10: SettingWithCopyWarning: \n",
            "A value is trying to be set on a copy of a slice from a DataFrame\n",
            "\n",
            "See the caveats in the documentation: https://pandas.pydata.org/pandas-docs/stable/user_guide/indexing.html#returning-a-view-versus-a-copy\n",
            "  # Remove the CWD from sys.path while we load stuff.\n",
            "/usr/local/lib/python3.6/dist-packages/ipykernel_launcher.py:8: SettingWithCopyWarning: \n",
            "A value is trying to be set on a copy of a slice from a DataFrame\n",
            "\n",
            "See the caveats in the documentation: https://pandas.pydata.org/pandas-docs/stable/user_guide/indexing.html#returning-a-view-versus-a-copy\n",
            "  \n"
          ],
          "name": "stderr"
        }
      ]
    },
    {
      "cell_type": "code",
      "metadata": {
        "id": "xzNp1cYC7BNw",
        "colab_type": "code",
        "colab": {
          "base_uri": "https://localhost:8080/",
          "height": 402
        },
        "outputId": "cd70c8f1-a645-4d58-90e1-23be5174e9e0"
      },
      "source": [
        "df1"
      ],
      "execution_count": null,
      "outputs": [
        {
          "output_type": "execute_result",
          "data": {
            "text/html": [
              "<div>\n",
              "<style scoped>\n",
              "    .dataframe tbody tr th:only-of-type {\n",
              "        vertical-align: middle;\n",
              "    }\n",
              "\n",
              "    .dataframe tbody tr th {\n",
              "        vertical-align: top;\n",
              "    }\n",
              "\n",
              "    .dataframe thead th {\n",
              "        text-align: right;\n",
              "    }\n",
              "</style>\n",
              "<table border=\"1\" class=\"dataframe\">\n",
              "  <thead>\n",
              "    <tr style=\"text-align: right;\">\n",
              "      <th></th>\n",
              "      <th>song_id</th>\n",
              "      <th>valence_mean</th>\n",
              "      <th>valence_std</th>\n",
              "      <th>arousal_mean</th>\n",
              "      <th>arousal_std</th>\n",
              "      <th>Mood</th>\n",
              "    </tr>\n",
              "  </thead>\n",
              "  <tbody>\n",
              "    <tr>\n",
              "      <th>0</th>\n",
              "      <td>2</td>\n",
              "      <td>3.1</td>\n",
              "      <td>0.94</td>\n",
              "      <td>3.0</td>\n",
              "      <td>0.63</td>\n",
              "      <td>Sad</td>\n",
              "    </tr>\n",
              "    <tr>\n",
              "      <th>1</th>\n",
              "      <td>3</td>\n",
              "      <td>3.5</td>\n",
              "      <td>1.75</td>\n",
              "      <td>3.3</td>\n",
              "      <td>1.62</td>\n",
              "      <td>Sad</td>\n",
              "    </tr>\n",
              "    <tr>\n",
              "      <th>2</th>\n",
              "      <td>4</td>\n",
              "      <td>5.7</td>\n",
              "      <td>1.42</td>\n",
              "      <td>5.5</td>\n",
              "      <td>1.63</td>\n",
              "      <td>Happy</td>\n",
              "    </tr>\n",
              "    <tr>\n",
              "      <th>3</th>\n",
              "      <td>5</td>\n",
              "      <td>4.4</td>\n",
              "      <td>2.01</td>\n",
              "      <td>5.3</td>\n",
              "      <td>1.85</td>\n",
              "      <td>Angry</td>\n",
              "    </tr>\n",
              "    <tr>\n",
              "      <th>4</th>\n",
              "      <td>7</td>\n",
              "      <td>5.8</td>\n",
              "      <td>1.47</td>\n",
              "      <td>6.4</td>\n",
              "      <td>1.69</td>\n",
              "      <td>Happy</td>\n",
              "    </tr>\n",
              "    <tr>\n",
              "      <th>...</th>\n",
              "      <td>...</td>\n",
              "      <td>...</td>\n",
              "      <td>...</td>\n",
              "      <td>...</td>\n",
              "      <td>...</td>\n",
              "      <td>...</td>\n",
              "    </tr>\n",
              "    <tr>\n",
              "      <th>1739</th>\n",
              "      <td>1996</td>\n",
              "      <td>3.9</td>\n",
              "      <td>1.87</td>\n",
              "      <td>5.9</td>\n",
              "      <td>2.21</td>\n",
              "      <td>Angry</td>\n",
              "    </tr>\n",
              "    <tr>\n",
              "      <th>1740</th>\n",
              "      <td>1997</td>\n",
              "      <td>5.3</td>\n",
              "      <td>1.42</td>\n",
              "      <td>3.9</td>\n",
              "      <td>1.14</td>\n",
              "      <td>Relaxed</td>\n",
              "    </tr>\n",
              "    <tr>\n",
              "      <th>1741</th>\n",
              "      <td>1998</td>\n",
              "      <td>6.4</td>\n",
              "      <td>1.50</td>\n",
              "      <td>6.2</td>\n",
              "      <td>1.60</td>\n",
              "      <td>Happy</td>\n",
              "    </tr>\n",
              "    <tr>\n",
              "      <th>1742</th>\n",
              "      <td>1999</td>\n",
              "      <td>4.6</td>\n",
              "      <td>2.11</td>\n",
              "      <td>5.4</td>\n",
              "      <td>1.80</td>\n",
              "      <td>Angry</td>\n",
              "    </tr>\n",
              "    <tr>\n",
              "      <th>1743</th>\n",
              "      <td>2000</td>\n",
              "      <td>5.8</td>\n",
              "      <td>1.78</td>\n",
              "      <td>6.0</td>\n",
              "      <td>1.67</td>\n",
              "      <td>Happy</td>\n",
              "    </tr>\n",
              "  </tbody>\n",
              "</table>\n",
              "<p>1744 rows × 6 columns</p>\n",
              "</div>"
            ],
            "text/plain": [
              "      song_id   valence_mean  ...   arousal_std     Mood\n",
              "0           2            3.1  ...          0.63      Sad\n",
              "1           3            3.5  ...          1.62      Sad\n",
              "2           4            5.7  ...          1.63    Happy\n",
              "3           5            4.4  ...          1.85    Angry\n",
              "4           7            5.8  ...          1.69    Happy\n",
              "...       ...            ...  ...           ...      ...\n",
              "1739     1996            3.9  ...          2.21    Angry\n",
              "1740     1997            5.3  ...          1.14  Relaxed\n",
              "1741     1998            6.4  ...          1.60    Happy\n",
              "1742     1999            4.6  ...          1.80    Angry\n",
              "1743     2000            5.8  ...          1.67    Happy\n",
              "\n",
              "[1744 rows x 6 columns]"
            ]
          },
          "metadata": {
            "tags": []
          },
          "execution_count": 13
        }
      ]
    },
    {
      "cell_type": "code",
      "metadata": {
        "id": "RYfYtk5m9t26",
        "colab_type": "code",
        "colab": {
          "base_uri": "https://localhost:8080/",
          "height": 118
        },
        "outputId": "8eda34b3-a2e6-4bfb-b2fc-ce15dc775d85"
      },
      "source": [
        "df1.Mood.value_counts()"
      ],
      "execution_count": null,
      "outputs": [
        {
          "output_type": "execute_result",
          "data": {
            "text/plain": [
              "Happy      634\n",
              "Sad        623\n",
              "Relaxed    207\n",
              "Angry      200\n",
              "0           80\n",
              "Name: Mood, dtype: int64"
            ]
          },
          "metadata": {
            "tags": []
          },
          "execution_count": 14
        }
      ]
    },
    {
      "cell_type": "code",
      "metadata": {
        "id": "TPnFftCv-8WK",
        "colab_type": "code",
        "colab": {
          "base_uri": "https://localhost:8080/",
          "height": 437
        },
        "outputId": "1f92b82d-aabb-4886-bf2d-a6ae5f659a76"
      },
      "source": [
        "df2 = pd.read_csv(\"/content/drive/My Drive/Datasets/DEAM/static_annotations_averaged_songs_2000_2058.csv\")\n",
        "df2[\"Mood\"] = 0*df2.shape[0]\n",
        "\n",
        "for i in range(df2.shape[0]):\n",
        "# print(df[\" valence_mean\"][i])\n",
        "  if (df2[\" valence_mean\"][i]>5.0 and df2[\" arousal_mean\"][i]>5.0):\n",
        "    df2[\"Mood\"][i] = \"Happy\"\n",
        "  elif (df2[\" valence_mean\"][i]<5.0 and df2[\" arousal_mean\"][i]<5.0):\n",
        "    df2[\"Mood\"][i] = \"Sad\"\n",
        "  elif (df2[\" valence_mean\"][i]>5.0 and df2[\" arousal_mean\"][i]<5.0):\n",
        "    df2[\"Mood\"][i] = \"Relaxed\"\n",
        "  if (df2[\" valence_mean\"][i]<5.0 and df2[\" arousal_mean\"][i]>5.0):\n",
        "    df2[\"Mood\"][i] = \"Angry\"    "
      ],
      "execution_count": null,
      "outputs": [
        {
          "output_type": "stream",
          "text": [
            "/usr/local/lib/python3.6/dist-packages/ipykernel_launcher.py:13: SettingWithCopyWarning: \n",
            "A value is trying to be set on a copy of a slice from a DataFrame\n",
            "\n",
            "See the caveats in the documentation: https://pandas.pydata.org/pandas-docs/stable/user_guide/indexing.html#returning-a-view-versus-a-copy\n",
            "  del sys.path[0]\n",
            "/usr/local/lib/python3.6/dist-packages/pandas/core/indexing.py:671: SettingWithCopyWarning: \n",
            "A value is trying to be set on a copy of a slice from a DataFrame\n",
            "\n",
            "See the caveats in the documentation: https://pandas.pydata.org/pandas-docs/stable/user_guide/indexing.html#returning-a-view-versus-a-copy\n",
            "  self._setitem_with_indexer(indexer, value)\n",
            "/usr/local/lib/python3.6/dist-packages/ipykernel_launcher.py:7: SettingWithCopyWarning: \n",
            "A value is trying to be set on a copy of a slice from a DataFrame\n",
            "\n",
            "See the caveats in the documentation: https://pandas.pydata.org/pandas-docs/stable/user_guide/indexing.html#returning-a-view-versus-a-copy\n",
            "  import sys\n",
            "/usr/local/lib/python3.6/dist-packages/ipykernel_launcher.py:11: SettingWithCopyWarning: \n",
            "A value is trying to be set on a copy of a slice from a DataFrame\n",
            "\n",
            "See the caveats in the documentation: https://pandas.pydata.org/pandas-docs/stable/user_guide/indexing.html#returning-a-view-versus-a-copy\n",
            "  # This is added back by InteractiveShellApp.init_path()\n",
            "/usr/local/lib/python3.6/dist-packages/ipykernel_launcher.py:9: SettingWithCopyWarning: \n",
            "A value is trying to be set on a copy of a slice from a DataFrame\n",
            "\n",
            "See the caveats in the documentation: https://pandas.pydata.org/pandas-docs/stable/user_guide/indexing.html#returning-a-view-versus-a-copy\n",
            "  if __name__ == '__main__':\n"
          ],
          "name": "stderr"
        }
      ]
    },
    {
      "cell_type": "code",
      "metadata": {
        "id": "c3nkr8FPfhIj",
        "colab_type": "code",
        "colab": {
          "base_uri": "https://localhost:8080/",
          "height": 101
        },
        "outputId": "d529fa0b-f540-47d4-99a6-c4315f733a28"
      },
      "source": [
        "df2.keys()"
      ],
      "execution_count": null,
      "outputs": [
        {
          "output_type": "execute_result",
          "data": {
            "text/plain": [
              "Index(['song_id', ' valence_mean', ' valence_std', ' valence_ max_mean',\n",
              "       ' valence_max_std', ' valence_min_mean', ' valence_min_std',\n",
              "       ' arousal_mean', ' arousal_std', ' arousal_max_mean',\n",
              "       ' arousal_max_std', ' arousal_min_mean', ' arousal_min_std', 'Mood'],\n",
              "      dtype='object')"
            ]
          },
          "metadata": {
            "tags": []
          },
          "execution_count": 16
        }
      ]
    },
    {
      "cell_type": "code",
      "metadata": {
        "id": "ETnidQVJYxV4",
        "colab_type": "code",
        "colab": {}
      },
      "source": [
        "df2= df2[[\"song_id\", \" valence_mean\", \" arousal_mean\", \"Mood\"]]"
      ],
      "execution_count": null,
      "outputs": []
    },
    {
      "cell_type": "code",
      "metadata": {
        "id": "jkWEKtHABMHA",
        "colab_type": "code",
        "colab": {
          "base_uri": "https://localhost:8080/",
          "height": 1000
        },
        "outputId": "d3fa9b36-cb29-4a1e-e345-6229ca668959"
      },
      "source": [
        "df2"
      ],
      "execution_count": null,
      "outputs": [
        {
          "output_type": "execute_result",
          "data": {
            "text/html": [
              "<div>\n",
              "<style scoped>\n",
              "    .dataframe tbody tr th:only-of-type {\n",
              "        vertical-align: middle;\n",
              "    }\n",
              "\n",
              "    .dataframe tbody tr th {\n",
              "        vertical-align: top;\n",
              "    }\n",
              "\n",
              "    .dataframe thead th {\n",
              "        text-align: right;\n",
              "    }\n",
              "</style>\n",
              "<table border=\"1\" class=\"dataframe\">\n",
              "  <thead>\n",
              "    <tr style=\"text-align: right;\">\n",
              "      <th></th>\n",
              "      <th>song_id</th>\n",
              "      <th>valence_mean</th>\n",
              "      <th>arousal_mean</th>\n",
              "      <th>Mood</th>\n",
              "    </tr>\n",
              "  </thead>\n",
              "  <tbody>\n",
              "    <tr>\n",
              "      <th>0</th>\n",
              "      <td>2001</td>\n",
              "      <td>3.20</td>\n",
              "      <td>6.60</td>\n",
              "      <td>Angry</td>\n",
              "    </tr>\n",
              "    <tr>\n",
              "      <th>1</th>\n",
              "      <td>2002</td>\n",
              "      <td>6.40</td>\n",
              "      <td>5.20</td>\n",
              "      <td>Happy</td>\n",
              "    </tr>\n",
              "    <tr>\n",
              "      <th>2</th>\n",
              "      <td>2003</td>\n",
              "      <td>5.40</td>\n",
              "      <td>4.60</td>\n",
              "      <td>Relaxed</td>\n",
              "    </tr>\n",
              "    <tr>\n",
              "      <th>3</th>\n",
              "      <td>2004</td>\n",
              "      <td>5.00</td>\n",
              "      <td>4.80</td>\n",
              "      <td>0</td>\n",
              "    </tr>\n",
              "    <tr>\n",
              "      <th>4</th>\n",
              "      <td>2005</td>\n",
              "      <td>3.80</td>\n",
              "      <td>5.20</td>\n",
              "      <td>Angry</td>\n",
              "    </tr>\n",
              "    <tr>\n",
              "      <th>5</th>\n",
              "      <td>2006</td>\n",
              "      <td>5.00</td>\n",
              "      <td>3.20</td>\n",
              "      <td>0</td>\n",
              "    </tr>\n",
              "    <tr>\n",
              "      <th>6</th>\n",
              "      <td>2007</td>\n",
              "      <td>3.40</td>\n",
              "      <td>4.40</td>\n",
              "      <td>Sad</td>\n",
              "    </tr>\n",
              "    <tr>\n",
              "      <th>7</th>\n",
              "      <td>2008</td>\n",
              "      <td>5.60</td>\n",
              "      <td>3.60</td>\n",
              "      <td>Relaxed</td>\n",
              "    </tr>\n",
              "    <tr>\n",
              "      <th>8</th>\n",
              "      <td>2009</td>\n",
              "      <td>5.20</td>\n",
              "      <td>4.20</td>\n",
              "      <td>Relaxed</td>\n",
              "    </tr>\n",
              "    <tr>\n",
              "      <th>9</th>\n",
              "      <td>2010</td>\n",
              "      <td>6.00</td>\n",
              "      <td>4.80</td>\n",
              "      <td>Relaxed</td>\n",
              "    </tr>\n",
              "    <tr>\n",
              "      <th>10</th>\n",
              "      <td>2011</td>\n",
              "      <td>4.20</td>\n",
              "      <td>5.00</td>\n",
              "      <td>0</td>\n",
              "    </tr>\n",
              "    <tr>\n",
              "      <th>11</th>\n",
              "      <td>2012</td>\n",
              "      <td>3.17</td>\n",
              "      <td>5.17</td>\n",
              "      <td>Angry</td>\n",
              "    </tr>\n",
              "    <tr>\n",
              "      <th>12</th>\n",
              "      <td>2013</td>\n",
              "      <td>5.40</td>\n",
              "      <td>5.60</td>\n",
              "      <td>Happy</td>\n",
              "    </tr>\n",
              "    <tr>\n",
              "      <th>13</th>\n",
              "      <td>2014</td>\n",
              "      <td>3.00</td>\n",
              "      <td>6.60</td>\n",
              "      <td>Angry</td>\n",
              "    </tr>\n",
              "    <tr>\n",
              "      <th>14</th>\n",
              "      <td>2015</td>\n",
              "      <td>6.60</td>\n",
              "      <td>5.40</td>\n",
              "      <td>Happy</td>\n",
              "    </tr>\n",
              "    <tr>\n",
              "      <th>15</th>\n",
              "      <td>2016</td>\n",
              "      <td>7.20</td>\n",
              "      <td>5.60</td>\n",
              "      <td>Happy</td>\n",
              "    </tr>\n",
              "    <tr>\n",
              "      <th>16</th>\n",
              "      <td>2017</td>\n",
              "      <td>6.67</td>\n",
              "      <td>6.50</td>\n",
              "      <td>Happy</td>\n",
              "    </tr>\n",
              "    <tr>\n",
              "      <th>17</th>\n",
              "      <td>2018</td>\n",
              "      <td>6.50</td>\n",
              "      <td>6.33</td>\n",
              "      <td>Happy</td>\n",
              "    </tr>\n",
              "    <tr>\n",
              "      <th>18</th>\n",
              "      <td>2019</td>\n",
              "      <td>6.80</td>\n",
              "      <td>6.80</td>\n",
              "      <td>Happy</td>\n",
              "    </tr>\n",
              "    <tr>\n",
              "      <th>19</th>\n",
              "      <td>2020</td>\n",
              "      <td>6.80</td>\n",
              "      <td>5.80</td>\n",
              "      <td>Happy</td>\n",
              "    </tr>\n",
              "    <tr>\n",
              "      <th>20</th>\n",
              "      <td>2021</td>\n",
              "      <td>4.20</td>\n",
              "      <td>4.40</td>\n",
              "      <td>Sad</td>\n",
              "    </tr>\n",
              "    <tr>\n",
              "      <th>21</th>\n",
              "      <td>2022</td>\n",
              "      <td>3.80</td>\n",
              "      <td>4.40</td>\n",
              "      <td>Sad</td>\n",
              "    </tr>\n",
              "    <tr>\n",
              "      <th>22</th>\n",
              "      <td>2023</td>\n",
              "      <td>5.60</td>\n",
              "      <td>3.00</td>\n",
              "      <td>Relaxed</td>\n",
              "    </tr>\n",
              "    <tr>\n",
              "      <th>23</th>\n",
              "      <td>2024</td>\n",
              "      <td>6.40</td>\n",
              "      <td>4.40</td>\n",
              "      <td>Relaxed</td>\n",
              "    </tr>\n",
              "    <tr>\n",
              "      <th>24</th>\n",
              "      <td>2025</td>\n",
              "      <td>6.00</td>\n",
              "      <td>4.80</td>\n",
              "      <td>Relaxed</td>\n",
              "    </tr>\n",
              "    <tr>\n",
              "      <th>25</th>\n",
              "      <td>2026</td>\n",
              "      <td>5.60</td>\n",
              "      <td>4.00</td>\n",
              "      <td>Relaxed</td>\n",
              "    </tr>\n",
              "    <tr>\n",
              "      <th>26</th>\n",
              "      <td>2027</td>\n",
              "      <td>5.80</td>\n",
              "      <td>5.40</td>\n",
              "      <td>Happy</td>\n",
              "    </tr>\n",
              "    <tr>\n",
              "      <th>27</th>\n",
              "      <td>2028</td>\n",
              "      <td>3.40</td>\n",
              "      <td>6.20</td>\n",
              "      <td>Angry</td>\n",
              "    </tr>\n",
              "    <tr>\n",
              "      <th>28</th>\n",
              "      <td>2029</td>\n",
              "      <td>4.17</td>\n",
              "      <td>4.00</td>\n",
              "      <td>Sad</td>\n",
              "    </tr>\n",
              "    <tr>\n",
              "      <th>29</th>\n",
              "      <td>2030</td>\n",
              "      <td>4.20</td>\n",
              "      <td>6.20</td>\n",
              "      <td>Angry</td>\n",
              "    </tr>\n",
              "    <tr>\n",
              "      <th>30</th>\n",
              "      <td>2031</td>\n",
              "      <td>4.60</td>\n",
              "      <td>3.40</td>\n",
              "      <td>Sad</td>\n",
              "    </tr>\n",
              "    <tr>\n",
              "      <th>31</th>\n",
              "      <td>2032</td>\n",
              "      <td>5.20</td>\n",
              "      <td>4.40</td>\n",
              "      <td>Relaxed</td>\n",
              "    </tr>\n",
              "    <tr>\n",
              "      <th>32</th>\n",
              "      <td>2033</td>\n",
              "      <td>3.17</td>\n",
              "      <td>6.83</td>\n",
              "      <td>Angry</td>\n",
              "    </tr>\n",
              "    <tr>\n",
              "      <th>33</th>\n",
              "      <td>2034</td>\n",
              "      <td>6.20</td>\n",
              "      <td>4.60</td>\n",
              "      <td>Relaxed</td>\n",
              "    </tr>\n",
              "    <tr>\n",
              "      <th>34</th>\n",
              "      <td>2035</td>\n",
              "      <td>3.40</td>\n",
              "      <td>4.60</td>\n",
              "      <td>Sad</td>\n",
              "    </tr>\n",
              "    <tr>\n",
              "      <th>35</th>\n",
              "      <td>2036</td>\n",
              "      <td>3.83</td>\n",
              "      <td>4.67</td>\n",
              "      <td>Sad</td>\n",
              "    </tr>\n",
              "    <tr>\n",
              "      <th>36</th>\n",
              "      <td>2037</td>\n",
              "      <td>6.40</td>\n",
              "      <td>4.40</td>\n",
              "      <td>Relaxed</td>\n",
              "    </tr>\n",
              "    <tr>\n",
              "      <th>37</th>\n",
              "      <td>2038</td>\n",
              "      <td>4.00</td>\n",
              "      <td>3.80</td>\n",
              "      <td>Sad</td>\n",
              "    </tr>\n",
              "    <tr>\n",
              "      <th>38</th>\n",
              "      <td>2039</td>\n",
              "      <td>5.40</td>\n",
              "      <td>4.60</td>\n",
              "      <td>Relaxed</td>\n",
              "    </tr>\n",
              "    <tr>\n",
              "      <th>39</th>\n",
              "      <td>2040</td>\n",
              "      <td>3.60</td>\n",
              "      <td>7.00</td>\n",
              "      <td>Angry</td>\n",
              "    </tr>\n",
              "    <tr>\n",
              "      <th>40</th>\n",
              "      <td>2041</td>\n",
              "      <td>4.40</td>\n",
              "      <td>3.00</td>\n",
              "      <td>Sad</td>\n",
              "    </tr>\n",
              "    <tr>\n",
              "      <th>41</th>\n",
              "      <td>2042</td>\n",
              "      <td>4.80</td>\n",
              "      <td>4.60</td>\n",
              "      <td>Sad</td>\n",
              "    </tr>\n",
              "    <tr>\n",
              "      <th>42</th>\n",
              "      <td>2043</td>\n",
              "      <td>5.60</td>\n",
              "      <td>4.40</td>\n",
              "      <td>Relaxed</td>\n",
              "    </tr>\n",
              "    <tr>\n",
              "      <th>43</th>\n",
              "      <td>2044</td>\n",
              "      <td>6.40</td>\n",
              "      <td>5.20</td>\n",
              "      <td>Happy</td>\n",
              "    </tr>\n",
              "    <tr>\n",
              "      <th>44</th>\n",
              "      <td>2045</td>\n",
              "      <td>4.80</td>\n",
              "      <td>3.20</td>\n",
              "      <td>Sad</td>\n",
              "    </tr>\n",
              "    <tr>\n",
              "      <th>45</th>\n",
              "      <td>2046</td>\n",
              "      <td>5.50</td>\n",
              "      <td>5.17</td>\n",
              "      <td>Happy</td>\n",
              "    </tr>\n",
              "    <tr>\n",
              "      <th>46</th>\n",
              "      <td>2047</td>\n",
              "      <td>6.20</td>\n",
              "      <td>5.00</td>\n",
              "      <td>0</td>\n",
              "    </tr>\n",
              "    <tr>\n",
              "      <th>47</th>\n",
              "      <td>2048</td>\n",
              "      <td>6.20</td>\n",
              "      <td>3.60</td>\n",
              "      <td>Relaxed</td>\n",
              "    </tr>\n",
              "    <tr>\n",
              "      <th>48</th>\n",
              "      <td>2049</td>\n",
              "      <td>4.40</td>\n",
              "      <td>3.80</td>\n",
              "      <td>Sad</td>\n",
              "    </tr>\n",
              "    <tr>\n",
              "      <th>49</th>\n",
              "      <td>2050</td>\n",
              "      <td>4.40</td>\n",
              "      <td>3.60</td>\n",
              "      <td>Sad</td>\n",
              "    </tr>\n",
              "    <tr>\n",
              "      <th>50</th>\n",
              "      <td>2051</td>\n",
              "      <td>3.20</td>\n",
              "      <td>4.60</td>\n",
              "      <td>Sad</td>\n",
              "    </tr>\n",
              "    <tr>\n",
              "      <th>51</th>\n",
              "      <td>2052</td>\n",
              "      <td>3.20</td>\n",
              "      <td>5.20</td>\n",
              "      <td>Angry</td>\n",
              "    </tr>\n",
              "    <tr>\n",
              "      <th>52</th>\n",
              "      <td>2053</td>\n",
              "      <td>3.80</td>\n",
              "      <td>3.80</td>\n",
              "      <td>Sad</td>\n",
              "    </tr>\n",
              "    <tr>\n",
              "      <th>53</th>\n",
              "      <td>2054</td>\n",
              "      <td>5.40</td>\n",
              "      <td>3.60</td>\n",
              "      <td>Relaxed</td>\n",
              "    </tr>\n",
              "    <tr>\n",
              "      <th>54</th>\n",
              "      <td>2055</td>\n",
              "      <td>5.00</td>\n",
              "      <td>5.20</td>\n",
              "      <td>0</td>\n",
              "    </tr>\n",
              "    <tr>\n",
              "      <th>55</th>\n",
              "      <td>2056</td>\n",
              "      <td>5.00</td>\n",
              "      <td>4.60</td>\n",
              "      <td>0</td>\n",
              "    </tr>\n",
              "    <tr>\n",
              "      <th>56</th>\n",
              "      <td>2057</td>\n",
              "      <td>3.17</td>\n",
              "      <td>6.83</td>\n",
              "      <td>Angry</td>\n",
              "    </tr>\n",
              "    <tr>\n",
              "      <th>57</th>\n",
              "      <td>2058</td>\n",
              "      <td>3.80</td>\n",
              "      <td>5.80</td>\n",
              "      <td>Angry</td>\n",
              "    </tr>\n",
              "  </tbody>\n",
              "</table>\n",
              "</div>"
            ],
            "text/plain": [
              "    song_id   valence_mean   arousal_mean     Mood\n",
              "0      2001           3.20           6.60    Angry\n",
              "1      2002           6.40           5.20    Happy\n",
              "2      2003           5.40           4.60  Relaxed\n",
              "3      2004           5.00           4.80        0\n",
              "4      2005           3.80           5.20    Angry\n",
              "5      2006           5.00           3.20        0\n",
              "6      2007           3.40           4.40      Sad\n",
              "7      2008           5.60           3.60  Relaxed\n",
              "8      2009           5.20           4.20  Relaxed\n",
              "9      2010           6.00           4.80  Relaxed\n",
              "10     2011           4.20           5.00        0\n",
              "11     2012           3.17           5.17    Angry\n",
              "12     2013           5.40           5.60    Happy\n",
              "13     2014           3.00           6.60    Angry\n",
              "14     2015           6.60           5.40    Happy\n",
              "15     2016           7.20           5.60    Happy\n",
              "16     2017           6.67           6.50    Happy\n",
              "17     2018           6.50           6.33    Happy\n",
              "18     2019           6.80           6.80    Happy\n",
              "19     2020           6.80           5.80    Happy\n",
              "20     2021           4.20           4.40      Sad\n",
              "21     2022           3.80           4.40      Sad\n",
              "22     2023           5.60           3.00  Relaxed\n",
              "23     2024           6.40           4.40  Relaxed\n",
              "24     2025           6.00           4.80  Relaxed\n",
              "25     2026           5.60           4.00  Relaxed\n",
              "26     2027           5.80           5.40    Happy\n",
              "27     2028           3.40           6.20    Angry\n",
              "28     2029           4.17           4.00      Sad\n",
              "29     2030           4.20           6.20    Angry\n",
              "30     2031           4.60           3.40      Sad\n",
              "31     2032           5.20           4.40  Relaxed\n",
              "32     2033           3.17           6.83    Angry\n",
              "33     2034           6.20           4.60  Relaxed\n",
              "34     2035           3.40           4.60      Sad\n",
              "35     2036           3.83           4.67      Sad\n",
              "36     2037           6.40           4.40  Relaxed\n",
              "37     2038           4.00           3.80      Sad\n",
              "38     2039           5.40           4.60  Relaxed\n",
              "39     2040           3.60           7.00    Angry\n",
              "40     2041           4.40           3.00      Sad\n",
              "41     2042           4.80           4.60      Sad\n",
              "42     2043           5.60           4.40  Relaxed\n",
              "43     2044           6.40           5.20    Happy\n",
              "44     2045           4.80           3.20      Sad\n",
              "45     2046           5.50           5.17    Happy\n",
              "46     2047           6.20           5.00        0\n",
              "47     2048           6.20           3.60  Relaxed\n",
              "48     2049           4.40           3.80      Sad\n",
              "49     2050           4.40           3.60      Sad\n",
              "50     2051           3.20           4.60      Sad\n",
              "51     2052           3.20           5.20    Angry\n",
              "52     2053           3.80           3.80      Sad\n",
              "53     2054           5.40           3.60  Relaxed\n",
              "54     2055           5.00           5.20        0\n",
              "55     2056           5.00           4.60        0\n",
              "56     2057           3.17           6.83    Angry\n",
              "57     2058           3.80           5.80    Angry"
            ]
          },
          "metadata": {
            "tags": []
          },
          "execution_count": 18
        }
      ]
    },
    {
      "cell_type": "code",
      "metadata": {
        "id": "jwN93_5dBQXt",
        "colab_type": "code",
        "colab": {}
      },
      "source": [
        "df = pd.concat([df1, df2])"
      ],
      "execution_count": null,
      "outputs": []
    },
    {
      "cell_type": "code",
      "metadata": {
        "id": "NqSVWIASEn9k",
        "colab_type": "code",
        "colab": {
          "base_uri": "https://localhost:8080/",
          "height": 118
        },
        "outputId": "2ad374e8-45de-4d97-a74b-6cbf73871115"
      },
      "source": [
        "df.Mood.value_counts()"
      ],
      "execution_count": null,
      "outputs": [
        {
          "output_type": "execute_result",
          "data": {
            "text/plain": [
              "Happy      645\n",
              "Sad        638\n",
              "Relaxed    222\n",
              "Angry      211\n",
              "0           86\n",
              "Name: Mood, dtype: int64"
            ]
          },
          "metadata": {
            "tags": []
          },
          "execution_count": 20
        }
      ]
    },
    {
      "cell_type": "code",
      "metadata": {
        "id": "8nPxvYINFpxx",
        "colab_type": "code",
        "colab": {}
      },
      "source": [
        "no_mood = df[df.Mood == 0]\n",
        "df = df[df.Mood != 0]"
      ],
      "execution_count": null,
      "outputs": []
    },
    {
      "cell_type": "code",
      "metadata": {
        "id": "_EbR1rt4J6d3",
        "colab_type": "code",
        "colab": {
          "base_uri": "https://localhost:8080/",
          "height": 101
        },
        "outputId": "f0bf33e6-9c9b-44a3-b2db-7831a27614a0"
      },
      "source": [
        "df.Mood.value_counts()"
      ],
      "execution_count": null,
      "outputs": [
        {
          "output_type": "execute_result",
          "data": {
            "text/plain": [
              "Sad        686\n",
              "Happy      594\n",
              "Relaxed    211\n",
              "Angry      203\n",
              "Name: Mood, dtype: int64"
            ]
          },
          "metadata": {
            "tags": []
          },
          "execution_count": 28
        }
      ]
    },
    {
      "cell_type": "code",
      "metadata": {
        "id": "PTS0OgfYKAHn",
        "colab_type": "code",
        "colab": {}
      },
      "source": [
        " no_mood.keys()"
      ],
      "execution_count": null,
      "outputs": []
    },
    {
      "cell_type": "code",
      "metadata": {
        "id": "oSnb5SrfMeCg",
        "colab_type": "code",
        "colab": {
          "base_uri": "https://localhost:8080/",
          "height": 67
        },
        "outputId": "c5829218-41f7-4e50-aac6-8b4125ed2405"
      },
      "source": [
        "df.keys()"
      ],
      "execution_count": null,
      "outputs": [
        {
          "output_type": "execute_result",
          "data": {
            "text/plain": [
              "Index(['song_id', ' valence_mean', ' valence_std', ' arousal_mean',\n",
              "       ' arousal_std', 'Mood'],\n",
              "      dtype='object')"
            ]
          },
          "metadata": {
            "tags": []
          },
          "execution_count": 21
        }
      ]
    },
    {
      "cell_type": "code",
      "metadata": {
        "id": "9a-GqRczXcIx",
        "colab_type": "code",
        "colab": {}
      },
      "source": [
        "df.drop([6,7,8,9,10,11,12,13,14])"
      ],
      "execution_count": null,
      "outputs": []
    },
    {
      "cell_type": "code",
      "metadata": {
        "id": "HwSLg2f1YLG1",
        "colab_type": "code",
        "colab": {}
      },
      "source": [
        "df.to_csv(\"merged.csv\")"
      ],
      "execution_count": null,
      "outputs": []
    },
    {
      "cell_type": "code",
      "metadata": {
        "id": "LZq_78gYOHZk",
        "colab_type": "code",
        "colab": {}
      },
      "source": [
        ""
      ],
      "execution_count": null,
      "outputs": []
    }
  ]
}