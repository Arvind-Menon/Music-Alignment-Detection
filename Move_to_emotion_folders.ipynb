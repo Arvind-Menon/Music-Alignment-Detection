{
  "nbformat": 4,
  "nbformat_minor": 0,
  "metadata": {
    "colab": {
      "name": "Move to emotion folders.ipynb",
      "provenance": [],
      "collapsed_sections": []
    },
    "kernelspec": {
      "name": "python3",
      "display_name": "Python 3"
    }
  },
  "cells": [
    {
      "cell_type": "markdown",
      "metadata": {
        "id": "RzcLZ0fP24sO",
        "colab_type": "text"
      },
      "source": [
        "# Purpose\n",
        "\n",
        "This file was used to move the audio files to their emotional folders, based on their corresponding labels"
      ]
    },
    {
      "cell_type": "code",
      "metadata": {
        "id": "2tnYpt68K4qM",
        "colab_type": "code",
        "colab": {}
      },
      "source": [
        "## Use the account \n",
        "## Email: arvind.final.dissertation@gmail.com\n",
        "## Password: final paper\n",
        "\n",
        "from google.colab import drive\n",
        "drive.mount('/content/drive')"
      ],
      "execution_count": null,
      "outputs": []
    },
    {
      "cell_type": "code",
      "metadata": {
        "id": "P0goI_dWZ6Os",
        "colab_type": "code",
        "colab": {
          "base_uri": "https://localhost:8080/",
          "height": 230
        },
        "outputId": "04855edc-9a12-4ce2-8abf-4a07428bb6a7"
      },
      "source": [
        "## To include a 2nd google drive, if required\n",
        "\n",
        "!apt-get install -y -qq software-properties-common python-software-properties module-init-tools\n",
        "!add-apt-repository -y ppa:alessandro-strada/ppa 2>&1 > /dev/null\n",
        "!apt-get update -qq 2>&1 > /dev/null\n",
        "!apt-get -y install -qq google-drive-ocamlfuse fuse\n",
        "from google.colab import auth\n",
        "auth.authenticate_user()\n",
        "from oauth2client.client import GoogleCredentials\n",
        "creds = GoogleCredentials.get_application_default()\n",
        "import getpass\n",
        "!google-drive-ocamlfuse -headless -id={creds.client_id} -secret={creds.client_secret} < /dev/null 2>&1 | grep URL\n",
        "vcode = getpass.getpass()\n",
        "!echo {vcode} | google-drive-ocamlfuse -headless -id={creds.client_id} -secret={creds.client_secret}\n",
        "!sudo mkdir /content/drive1\n",
        "!google-drive-ocamlfuse /content/drive1"
      ],
      "execution_count": null,
      "outputs": [
        {
          "output_type": "stream",
          "text": [
            "E: Package 'python-software-properties' has no installation candidate\n",
            "Selecting previously unselected package google-drive-ocamlfuse.\n",
            "(Reading database ... 144579 files and directories currently installed.)\n",
            "Preparing to unpack .../google-drive-ocamlfuse_0.7.22-0ubuntu3~ubuntu18.04.1_amd64.deb ...\n",
            "Unpacking google-drive-ocamlfuse (0.7.22-0ubuntu3~ubuntu18.04.1) ...\n",
            "Setting up google-drive-ocamlfuse (0.7.22-0ubuntu3~ubuntu18.04.1) ...\n",
            "Processing triggers for man-db (2.8.3-2ubuntu0.1) ...\n",
            "Please, open the following URL in a web browser: https://accounts.google.com/o/oauth2/auth?client_id=32555940559.apps.googleusercontent.com&redirect_uri=urn%3Aietf%3Awg%3Aoauth%3A2.0%3Aoob&scope=https%3A%2F%2Fwww.googleapis.com%2Fauth%2Fdrive&response_type=code&access_type=offline&approval_prompt=force\n",
            "··········\n",
            "Please, open the following URL in a web browser: https://accounts.google.com/o/oauth2/auth?client_id=32555940559.apps.googleusercontent.com&redirect_uri=urn%3Aietf%3Awg%3Aoauth%3A2.0%3Aoob&scope=https%3A%2F%2Fwww.googleapis.com%2Fauth%2Fdrive&response_type=code&access_type=offline&approval_prompt=force\n",
            "Please enter the verification code: Access token retrieved correctly.\n"
          ],
          "name": "stdout"
        }
      ]
    },
    {
      "cell_type": "code",
      "metadata": {
        "id": "ggJu561D3LbK",
        "colab_type": "code",
        "colab": {}
      },
      "source": [
        "import os\n",
        "import shutil\n",
        "import pandas as pd"
      ],
      "execution_count": null,
      "outputs": []
    },
    {
      "cell_type": "code",
      "metadata": {
        "id": "vL1p1XUz_qT9",
        "colab_type": "code",
        "colab": {}
      },
      "source": [
        "# dataset_path = \"/content/drive/My Drive/DataSets/DEAM/MEMD_audio\" #DEAM\n",
        "dataset_path = \"/content/drive/My Drive/DataSets/PMEmo2019/chorus\" #PMEmo 2019\n",
        "\n",
        "\n",
        "# df = pd.read_csv(\"/content/drive/My Drive/DataSets/DEAM/merged.csv\")\n",
        "df = pd.read_csv(\"/content/drive/My Drive/DataSets/PMEmo2019/merged.csv\")"
      ],
      "execution_count": null,
      "outputs": []
    },
    {
      "cell_type": "code",
      "metadata": {
        "id": "8cABWHCj_tx-",
        "colab_type": "code",
        "colab": {}
      },
      "source": [
        "for i, (dirpath, dirnames, filenames) in enumerate(os.walk(dataset_path)):\n",
        "\n",
        "    for f_name in filenames:\n",
        "        file_path = os.path.join(dirpath, f_name)      \n",
        "        semantic_label = f_name.split(\".mp3\")[0]\n",
        "        index = df[df[\"song_id\"] == int(semantic_label)].index.values\n",
        "        label = str(df[\"Mood\"][index].values)[2:-2]\n",
        "        if label != \"0\":\n",
        "          file_path2 = \"/content/drive/PMEmo 2019/{}/{}.mp3\".format(label, semantic_label)\n",
        "          print(file_path2)\n",
        "          shutil.move(file_path, file_path2)"
      ],
      "execution_count": null,
      "outputs": []
    }
  ]
}