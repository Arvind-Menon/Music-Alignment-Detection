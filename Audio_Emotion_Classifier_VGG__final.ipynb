{
  "nbformat": 4,
  "nbformat_minor": 0,
  "metadata": {
    "colab": {
      "name": "Audio_Emotion_Classifier_VGG__final.ipynb",
      "provenance": [],
      "collapsed_sections": [],
      "toc_visible": true
    },
    "kernelspec": {
      "name": "python3",
      "display_name": "Python 3"
    },
    "accelerator": "GPU"
  },
  "cells": [
    {
      "cell_type": "markdown",
      "metadata": {
        "id": "boVB5xMD8F1n",
        "colab_type": "text"
      },
      "source": [
        "# Acknowledgement\n",
        "### This Notebook has been realised owing to the tutorial series by Valerio Velardo. The playlist can be found at https://www.youtube.com/channel/UCZPFjMe1uRSirmSpznqvJfQ/playlists under the title \"Deep Learning (for Audio) with python. His tutorial involved genre-classification among 10 classes. \n",
        "I modified his work for my mood-classification among 4 classes task. However, the deep learning architecture used was not influenced by his tutorial. His main influence has been in user defined functions for saving and loading data with preprocessing the data, and ploting the history curve. Valerio has been made aware of me using his tutorial for my project through LinkedIn. He even undertook my survey and had like a post regarding my project on LinkedIn"
      ]
    },
    {
      "cell_type": "markdown",
      "metadata": {
        "id": "G7Uoh4mSlud-",
        "colab_type": "text"
      },
      "source": [
        "# Load Google Drive(s)"
      ]
    },
    {
      "cell_type": "code",
      "metadata": {
        "id": "ZC8W8MUzwqkf",
        "colab_type": "code",
        "colab": {
          "base_uri": "https://localhost:8080/",
          "height": 125
        },
        "outputId": "ae4c698b-05cd-413f-cc16-4d7d0fff47f6"
      },
      "source": [
        "## Use the account \n",
        "## Email: arvind.final.dissertation@gmail.com\n",
        "## Password: final paper\n",
        "\n",
        "from google.colab import drive\n",
        "drive.mount('/content/drive')"
      ],
      "execution_count": null,
      "outputs": [
        {
          "output_type": "stream",
          "text": [
            "Go to this URL in a browser: https://accounts.google.com/o/oauth2/auth?client_id=947318989803-6bn6qk8qdgf4n4g3pfee6491hc0brc4i.apps.googleusercontent.com&redirect_uri=urn%3aietf%3awg%3aoauth%3a2.0%3aoob&scope=email%20https%3a%2f%2fwww.googleapis.com%2fauth%2fdocs.test%20https%3a%2f%2fwww.googleapis.com%2fauth%2fdrive%20https%3a%2f%2fwww.googleapis.com%2fauth%2fdrive.photos.readonly%20https%3a%2f%2fwww.googleapis.com%2fauth%2fpeopleapi.readonly&response_type=code\n",
            "\n",
            "Enter your authorization code:\n",
            "··········\n",
            "Mounted at /content/drive\n"
          ],
          "name": "stdout"
        }
      ]
    },
    {
      "cell_type": "code",
      "metadata": {
        "id": "z5Rj--1JwqTb",
        "colab_type": "code",
        "colab": {}
      },
      "source": [
        "# !apt-get install -y -qq software-properties-common python-software-properties module-init-tools\n",
        "# !add-apt-repository -y ppa:alessandro-strada/ppa 2>&1 > /dev/null\n",
        "# !apt-get update -qq 2>&1 > /dev/null\n",
        "# !apt-get -y install -qq google-drive-ocamlfuse fuse\n",
        "# from google.colab import auth\n",
        "# auth.authenticate_user()\n",
        "# from oauth2client.client import GoogleCredentials\n",
        "# creds = GoogleCredentials.get_application_default()\n",
        "# import getpass\n",
        "# !google-drive-ocamlfuse -headless -id={creds.client_id} -secret={creds.client_secret} < /dev/null 2>&1 | grep URL\n",
        "# vcode = getpass.getpass()\n",
        "# !echo {vcode} | google-drive-ocamlfuse -headless -id={creds.client_id} -secret={creds.client_secret}\n",
        "# !sudo mkdir /content/drive1\n",
        "# !google-drive-ocamlfuse /content/drive1"
      ],
      "execution_count": null,
      "outputs": []
    },
    {
      "cell_type": "markdown",
      "metadata": {
        "id": "LOCgp_Ral4NQ",
        "colab_type": "text"
      },
      "source": [
        "# Libraries"
      ]
    },
    {
      "cell_type": "code",
      "metadata": {
        "id": "BSG4UeQvUJ_i",
        "colab_type": "code",
        "colab": {}
      },
      "source": [
        "import json\n",
        "import numpy as np\n",
        "from sklearn.model_selection import train_test_split\n",
        "import tensorflow.keras as keras\n",
        "import matplotlib.pyplot as plot\n",
        "import tensorflow as tf\n",
        "from keras.callbacks import ModelCheckpoint\n",
        "from keras.models import Sequential\n",
        "from keras.layers import Dense, Dropout, Flatten, Conv2D, MaxPool2D\n",
        "from keras.layers import Conv2D, MaxPooling2D, Input, AveragePooling2D\n",
        "from keras.layers.normalization import BatchNormalization\n",
        "from keras.models import Model\n",
        "from keras.utils.vis_utils import plot_model\n",
        "from keras.regularizers import l2\n",
        "\n",
        "#Sci-kit learn libs\n",
        "from sklearn.metrics import accuracy_score\n",
        "from sklearn.metrics import precision_score\n",
        "from sklearn.metrics import recall_score\n",
        "from sklearn.metrics import f1_score\n",
        "from sklearn.metrics import confusion_matrix"
      ],
      "execution_count": null,
      "outputs": []
    },
    {
      "cell_type": "markdown",
      "metadata": {
        "id": "Env7h4DkmArR",
        "colab_type": "text"
      },
      "source": [
        "# User Defined Function"
      ]
    },
    {
      "cell_type": "code",
      "metadata": {
        "id": "wai8d0LXUxle",
        "colab_type": "code",
        "colab": {}
      },
      "source": [
        "def json_load(json_path):\n",
        "    \"\"\"Loads the pre-processessed json file.\n",
        "\n",
        "        json_path: Path to json file containing data\n",
        "        X : MFFC array\n",
        "        y : encoded labels\n",
        "        mapping: corresponding labels\n",
        "    \"\"\"\n",
        "\n",
        "    with open(json_path, \"r\") as fp:\n",
        "        data = json.load(fp)\n",
        "\n",
        "    X = np.array(data[\"mfcc\"])\n",
        "    y = np.array(data[\"labels\"])\n",
        "    mapping = data[\"mapping\"]\n",
        "    return X, y, mapping"
      ],
      "execution_count": null,
      "outputs": []
    },
    {
      "cell_type": "code",
      "metadata": {
        "id": "F4tjuEoAU0Tr",
        "colab_type": "code",
        "colab": {}
      },
      "source": [
        "def viz_history(history):\n",
        "    \"\"\"Plots accuracy-vs-epoch and error-vs-epoch plots with \n",
        "\n",
        "        :param history: Training history of model\n",
        "        :return:\n",
        "    \"\"\"\n",
        "\n",
        "    figure, axes = plot.subplots(figsize=(10,4), nrows=1, ncols=2)\n",
        "    figure.tight_layout(pad=3.0)\n",
        "    \n",
        "    axes[0].set_xlabel(\"Epoch\")\n",
        "    axes[1].set_xlabel(\"Epoch\")\n",
        "\n",
        "    # create accuracy sublpot\n",
        "    axes[0].plot(history.history[\"accuracy\"], label=\"Train Accuracy\")\n",
        "    axes[0].plot(history.history[\"val_accuracy\"], label=\"Validation Accuracy\")\n",
        "    axes[0].set_ylabel(\"Accuracy\")\n",
        "    axes[0].legend(loc=\"upper right\")\n",
        "    axes[0].set_title(\"Accuracy-vs-Epoch\")\n",
        "\n",
        "    # create error sublpot\n",
        "    axes[1].plot(history.history[\"loss\"], label=\"Train Error\")\n",
        "    axes[1].plot(history.history[\"val_loss\"], label=\"Validation Error\")\n",
        "    axes[1].set_ylabel(\"Error\")    \n",
        "    axes[1].legend(loc=\"upper right\")\n",
        "    axes[1].set_title(\"error-vs-epoch\")\n",
        "\n",
        "    plot.show()\n"
      ],
      "execution_count": null,
      "outputs": []
    },
    {
      "cell_type": "code",
      "metadata": {
        "id": "c6zMeetmU4mW",
        "colab_type": "code",
        "colab": {}
      },
      "source": [
        "def train_val_test(validation_split, test_split):\n",
        "    \"\"\"Loads data and splits it into train, validation and test sets.\n",
        "\n",
        "        In AER splits, Validation_split of 0.1 and test_split of 0.1 is used ----> train:0.8,val:0.09,test:0.1\n",
        "        The above split produced the highest accuracies\n",
        "    \"\"\"\n",
        "\n",
        "    # load data\n",
        "    X, y, mapping = json_load(JSON_PATH)\n",
        "\n",
        "    # create train, validation and test split\n",
        "    X_train, X_test, y_train, y_test = train_test_split(X, y, test_size=test_split, random_state=42, stratify = y)\n",
        "    X_train, X_validation, y_train, y_validation = train_test_split(X_train, y_train, test_size=validation_split, random_state=42, stratify = y_train)\n",
        "\n",
        "    # add an axis to input sets\n",
        "    X_train = X_train[..., np.newaxis]\n",
        "    X_validation = X_validation[..., np.newaxis]\n",
        "    X_test = X_test[..., np.newaxis]\n",
        "\n",
        "    return X_train, X_validation, X_test, y_train, y_validation, y_test, mapping"
      ],
      "execution_count": null,
      "outputs": []
    },
    {
      "cell_type": "code",
      "metadata": {
        "id": "T7M28gAziZ_j",
        "colab_type": "code",
        "colab": {}
      },
      "source": [
        "def build_model_VGG(input_shape):\n",
        "    \"\"\"Generates CNN model\n",
        "\n",
        "    :param input_shape (tuple): Shape of input set\n",
        "    :return model: CNN model\n",
        "    \"\"\"\n",
        "    def mish(x):\n",
        "      return x * keras.backend.tanh(keras.backend.softplus(x))\n",
        "\n",
        "    model = Sequential()\n",
        "    model.add(Conv2D(64, (3, 3), activation= 'relu', padding = 'same', input_shape=input_shape,bias_regularizer= l2(0.1), kernel_regularizer=l2(0.1)))\n",
        "    model.add(Conv2D(64, (3, 3), activation= 'relu', padding = 'same',bias_regularizer= l2(0.1), kernel_regularizer=l2(0.01)))\n",
        "    model.add(MaxPooling2D(pool_size=(2, 2), padding = 'same'))\n",
        "    model.add(BatchNormalization())\n",
        "    model.add(Dropout(0.5))\n",
        "\n",
        "    model.add(Conv2D(128, (3, 3), activation= 'relu', padding = 'same',bias_regularizer= l2(0.1), kernel_regularizer=l2(0.1)))\n",
        "    model.add(Conv2D(128, (3, 3), activation= 'relu', padding = 'same',bias_regularizer= l2(0.1), kernel_regularizer=l2(0.1)))\n",
        "    model.add(MaxPooling2D(pool_size=(2, 2), padding = 'same'))\n",
        "    model.add(BatchNormalization())\n",
        "    model.add(Dropout(0.5))\n",
        "\n",
        "    model.add(Conv2D(256, (3, 3), activation= 'relu', padding = 'same',bias_regularizer= l2(0.1), kernel_regularizer=l2(0.1)))\n",
        "    model.add(Conv2D(256, (3, 3), activation= 'relu', padding = 'same',bias_regularizer= l2(0.1), kernel_regularizer=l2(0.1)))\n",
        "    model.add(Conv2D(256, (3, 3), activation= 'relu', padding = 'same',bias_regularizer= l2(0.1), kernel_regularizer=l2(0.1)))\n",
        "    model.add(MaxPooling2D(pool_size=(2, 2), padding = 'same'))\n",
        "    model.add(BatchNormalization())\n",
        "    model.add(Dropout(0.5))\n",
        "\n",
        "    model.add(Conv2D(512, (3, 3), activation= 'relu', padding = 'same', bias_regularizer= l2(0.1), kernel_regularizer=l2(0.1)))\n",
        "    model.add(Conv2D(512, (3, 3), activation= 'relu', padding = 'same',bias_regularizer= l2(0.1), kernel_regularizer=l2(0.1)))\n",
        "    model.add(Conv2D(512, (3, 3), activation= 'relu', padding = 'same',bias_regularizer= l2(0.1), kernel_regularizer=l2(0.1)))\n",
        "    model.add(MaxPooling2D(pool_size=(2, 2), padding = 'same'))\n",
        "    model.add(BatchNormalization())\n",
        "    model.add(Dropout(0.5))\n",
        "\n",
        "    model.add(Conv2D(512, (3, 3), activation='relu', padding = 'same' ,bias_regularizer= l2(0.01), kernel_regularizer=l2(0.01)))\n",
        "    model.add(Conv2D(512, (3, 3), activation='relu', padding = 'same',bias_regularizer= l2(0.01), kernel_regularizer=l2(0.01)))\n",
        "    model.add(Conv2D(512, (3, 3), activation='relu', padding = 'same',bias_regularizer= l2(0.01), kernel_regularizer=l2(0.01)))\n",
        "    model.add(MaxPooling2D(pool_size=(2, 2), padding = 'same'))\n",
        "    model.add(Dropout(0.5))\n",
        "\n",
        "\n",
        "    model.add(Flatten())\n",
        "    model.add(Dense(2048, activation= mish, bias_regularizer = l2(0.1)))\n",
        "    model.add(Dropout(0.5))\n",
        "    model.add(Dense(2048, activation= mish, bias_regularizer = l2(0.1)))\n",
        "    model.add(Dropout(0.5))\n",
        "    model.add(Dense(1000, activation= mish, bias_regularizer = l2(0.1)))\n",
        "    model.add(Dropout(0.5))\n",
        "    model.add(Dense(4, activation='softmax'))\n",
        "     \n",
        "    return model"
      ],
      "execution_count": null,
      "outputs": []
    },
    {
      "cell_type": "code",
      "metadata": {
        "id": "wmVpEPW2oTn0",
        "colab_type": "code",
        "colab": {}
      },
      "source": [
        "def load_model(model_path):\n",
        "      \"\"\"Loads model from the given path\n",
        "        :param model_path: route to the desired model\n",
        "        :return model: return the loaded model\n",
        "      \"\"\"\n",
        "      \n",
        "      def mish(x):\n",
        "        return x * keras.backend.tanh(keras.backend.softplus(x))\n",
        "\n",
        "      model= keras.models.load_model(model_path,\n",
        "                        custom_objects = {\"mish\":mish})\n",
        "\n",
        "      return model"
      ],
      "execution_count": null,
      "outputs": []
    },
    {
      "cell_type": "code",
      "metadata": {
        "id": "rPR8YkjGnF46",
        "colab_type": "code",
        "colab": {}
      },
      "source": [
        "def predict_AER(X_predict):\n",
        "    \"\"\"Gives the AER prediction of the loaded model.\n",
        "      \n",
        "      :param X_predict: the instance to predict\n",
        "    \"\"\"\n",
        "    X = X_predict\n",
        "    X= X[np.newaxis, ...] # array shape (1, 130, 13, 1)\n",
        "    label_dict = {}\n",
        "    for i in range(len(mapping)):\n",
        "      label_dict.update({i:mapping[i]})\n",
        "    label_dict\n",
        "\n",
        "    # perform prediction\n",
        "    prediction = model.predict(X)\n",
        "\n",
        "    # get index with max value\n",
        "    predicted_index = np.argmax(prediction, axis=1)\n",
        "    print(\"The predicted mood is:\", label_dict[predicted_index[0]])"
      ],
      "execution_count": null,
      "outputs": []
    },
    {
      "cell_type": "code",
      "metadata": {
        "id": "fUUgMrpznLre",
        "colab_type": "code",
        "colab": {}
      },
      "source": [
        "def metrics_all(model, X_test, y_test):\n",
        "    \"\"\"Provides different metrices to assess.\n",
        "\n",
        "      :param X_test: The set of instances to predict on\n",
        "      :param Y_test: Ground truth labels\n",
        "    \"\"\"\n",
        "\n",
        "    yhat_probs = model.predict(X_test, verbose=0) #class probability prediction\n",
        "    yhat_classes = np.argmax(yhat_probs, axis =1) #predicted class\n",
        "\n",
        "\n",
        "    # accuracy: (tp + tn) / (p + n)\n",
        "    accuracy = accuracy_score(y_test, yhat_classes)\n",
        "    print('Accuracy: %f' % accuracy)\n",
        "\n",
        "    # precision tp / (tp + fp)\n",
        "    precision = precision_score(y_test, yhat_classes, average='weighted')\n",
        "    print('Precision: %f' % precision)\n",
        "\n",
        "    # recall: tp / (tp + fn)\n",
        "    recall = recall_score(y_test, yhat_classes, average='weighted')\n",
        "    print('Recall: %f' % recall)\n",
        "\n",
        "    # f1: 2 tp / (2 tp + fp + fn)\n",
        "    f1 = f1_score(y_test, yhat_classes, average='weighted')\n",
        "    print('F1 score: %f' % f1)\n",
        "\n",
        "    # Confusion matrix\n",
        "    matrix = confusion_matrix(y_test, yhat_classes)\n",
        "    print(\"\\nThe confusion matrix is as below:\")\n",
        "    print(matrix)"
      ],
      "execution_count": null,
      "outputs": []
    },
    {
      "cell_type": "code",
      "metadata": {
        "id": "KmrrI8CEnS-z",
        "colab_type": "code",
        "colab": {}
      },
      "source": [
        "def accuracy_per_class(preds, labels):\n",
        "    \"\"\"\n",
        "    Provides the accuracy for each class in the AER task\n",
        "\n",
        "    :param preds: Predicted labels\n",
        "    :param labels: Ground truth labels\n",
        "    \"\"\"\n",
        "\n",
        "    label_dict = {} #dictionary to map the encoded labels to their semantic labels\n",
        "    for i in range(len(mapping)):\n",
        "      label_dict.update({i:mapping[i]})\n",
        "      \n",
        "    for label in np.unique(y_test):\n",
        "        y_preds = yhat_classes[y_test==label]\n",
        "        y_true = y_test[y_test==label]\n",
        "        print(f'Class: {label_dict[label]}')\n",
        "        print(f'Accuracy: {len(y_preds[y_preds==label])}/{len(y_true)}')\n",
        "        print(f'Accuracy (Percentage): ', (len(y_preds[y_preds==label])/len(y_true))*100, \"%\\n\")"
      ],
      "execution_count": null,
      "outputs": []
    },
    {
      "cell_type": "markdown",
      "metadata": {
        "id": "Q9WosuKBnUqg",
        "colab_type": "text"
      },
      "source": [
        "# Load and Split dataset"
      ]
    },
    {
      "cell_type": "code",
      "metadata": {
        "id": "y6Npkp0VJZrF",
        "colab_type": "code",
        "colab": {}
      },
      "source": [
        "# get train, validation, test splits\n",
        "JSON_PATH = \"/content/drive/My Drive/DEAM JSON/Sample rate:44100, MFCC coefficient:13, Track Duration:45, segments: 20, N0. FFT = 2048\"\n",
        "X_train, X_validation, X_test, y_train, y_validation, y_test, mapping = train_val_test(0.1, 0.1)"
      ],
      "execution_count": null,
      "outputs": []
    },
    {
      "cell_type": "markdown",
      "metadata": {
        "id": "RvikArVQlra1",
        "colab_type": "text"
      },
      "source": [
        "# Model Training"
      ]
    },
    {
      "cell_type": "code",
      "metadata": {
        "id": "CXGPW5CCVET5",
        "colab_type": "code",
        "colab": {
          "base_uri": "https://localhost:8080/",
          "height": 1000
        },
        "outputId": "b1372ba2-162d-4e7a-de52-3b2fe730c02f"
      },
      "source": [
        "# create network\n",
        "shape_of_input = (X_train.shape[1], X_train.shape[2], 1)\n",
        "model = build_model_VGG(shape_of_input)\n",
        "\n",
        "checkpoint = ModelCheckpoint('/content/drive/My Drive/Good Models/Model-best-model-accuracy-VGG.h5', verbose = 1, monitor='val_accuracy',save_best_only=True, mode='max')\n",
        "patience = tf.keras.callbacks.EarlyStopping(monitor='val_accuracy', patience=20)\n",
        "\n",
        "initial_learning_rate = 0.0005\n",
        "lr_schedule = tf.keras.optimizers.schedules.ExponentialDecay(\n",
        "    initial_learning_rate,\n",
        "    decay_steps=10000,\n",
        "    decay_rate=0.98,\n",
        "    staircase=True)\n",
        "\n",
        "# compile model\n",
        "optimiser = tf.keras.optimizers.RMSprop(learning_rate= 0.0005)\n",
        "model.compile(optimizer=optimiser,\n",
        "              loss='sparse_categorical_crossentropy',\n",
        "              metrics=['accuracy'])\n",
        "model.summary()\n",
        "plot_model(model, to_file='/content/drive/My Drive/Good Models/inception_VGG.png', show_shapes=True, show_layer_names=True)\n",
        "\n",
        "\n",
        "# train model\n",
        "history = model.fit(X_train, y_train, validation_data=(X_validation, y_validation), batch_size=64, epochs=200, callbacks=[checkpoint,patience])\n"
      ],
      "execution_count": null,
      "outputs": [
        {
          "output_type": "stream",
          "text": [
            "Model: \"sequential_7\"\n",
            "_________________________________________________________________\n",
            "Layer (type)                 Output Shape              Param #   \n",
            "=================================================================\n",
            "conv2d_91 (Conv2D)           (None, 194, 13, 64)       640       \n",
            "_________________________________________________________________\n",
            "conv2d_92 (Conv2D)           (None, 194, 13, 64)       36928     \n",
            "_________________________________________________________________\n",
            "max_pooling2d_35 (MaxPooling (None, 97, 7, 64)         0         \n",
            "_________________________________________________________________\n",
            "batch_normalization_28 (Batc (None, 97, 7, 64)         256       \n",
            "_________________________________________________________________\n",
            "dropout_56 (Dropout)         (None, 97, 7, 64)         0         \n",
            "_________________________________________________________________\n",
            "conv2d_93 (Conv2D)           (None, 97, 7, 128)        73856     \n",
            "_________________________________________________________________\n",
            "conv2d_94 (Conv2D)           (None, 97, 7, 128)        147584    \n",
            "_________________________________________________________________\n",
            "max_pooling2d_36 (MaxPooling (None, 49, 4, 128)        0         \n",
            "_________________________________________________________________\n",
            "batch_normalization_29 (Batc (None, 49, 4, 128)        512       \n",
            "_________________________________________________________________\n",
            "dropout_57 (Dropout)         (None, 49, 4, 128)        0         \n",
            "_________________________________________________________________\n",
            "conv2d_95 (Conv2D)           (None, 49, 4, 256)        295168    \n",
            "_________________________________________________________________\n",
            "conv2d_96 (Conv2D)           (None, 49, 4, 256)        590080    \n",
            "_________________________________________________________________\n",
            "conv2d_97 (Conv2D)           (None, 49, 4, 256)        590080    \n",
            "_________________________________________________________________\n",
            "max_pooling2d_37 (MaxPooling (None, 25, 2, 256)        0         \n",
            "_________________________________________________________________\n",
            "batch_normalization_30 (Batc (None, 25, 2, 256)        1024      \n",
            "_________________________________________________________________\n",
            "dropout_58 (Dropout)         (None, 25, 2, 256)        0         \n",
            "_________________________________________________________________\n",
            "conv2d_98 (Conv2D)           (None, 25, 2, 512)        1180160   \n",
            "_________________________________________________________________\n",
            "conv2d_99 (Conv2D)           (None, 25, 2, 512)        2359808   \n",
            "_________________________________________________________________\n",
            "conv2d_100 (Conv2D)          (None, 25, 2, 512)        2359808   \n",
            "_________________________________________________________________\n",
            "max_pooling2d_38 (MaxPooling (None, 13, 1, 512)        0         \n",
            "_________________________________________________________________\n",
            "batch_normalization_31 (Batc (None, 13, 1, 512)        2048      \n",
            "_________________________________________________________________\n",
            "dropout_59 (Dropout)         (None, 13, 1, 512)        0         \n",
            "_________________________________________________________________\n",
            "conv2d_101 (Conv2D)          (None, 13, 1, 512)        2359808   \n",
            "_________________________________________________________________\n",
            "conv2d_102 (Conv2D)          (None, 13, 1, 512)        2359808   \n",
            "_________________________________________________________________\n",
            "conv2d_103 (Conv2D)          (None, 13, 1, 512)        2359808   \n",
            "_________________________________________________________________\n",
            "max_pooling2d_39 (MaxPooling (None, 7, 1, 512)         0         \n",
            "_________________________________________________________________\n",
            "dropout_60 (Dropout)         (None, 7, 1, 512)         0         \n",
            "_________________________________________________________________\n",
            "flatten_7 (Flatten)          (None, 3584)              0         \n",
            "_________________________________________________________________\n",
            "dense_28 (Dense)             (None, 2048)              7342080   \n",
            "_________________________________________________________________\n",
            "dropout_61 (Dropout)         (None, 2048)              0         \n",
            "_________________________________________________________________\n",
            "dense_29 (Dense)             (None, 2048)              4196352   \n",
            "_________________________________________________________________\n",
            "dropout_62 (Dropout)         (None, 2048)              0         \n",
            "_________________________________________________________________\n",
            "dense_30 (Dense)             (None, 1000)              2049000   \n",
            "_________________________________________________________________\n",
            "dropout_63 (Dropout)         (None, 1000)              0         \n",
            "_________________________________________________________________\n",
            "dense_31 (Dense)             (None, 4)                 4004      \n",
            "=================================================================\n",
            "Total params: 28,308,812\n",
            "Trainable params: 28,306,892\n",
            "Non-trainable params: 1,920\n",
            "_________________________________________________________________\n",
            "Epoch 1/200\n",
            "428/428 [==============================] - ETA: 0s - loss: 9.4615 - accuracy: 0.4061\n",
            "Epoch 00001: val_accuracy improved from -inf to 0.40585, saving model to /content/drive/My Drive/Good Models/Model-best-model-accuracy-VGG.h5\n",
            "428/428 [==============================] - 42s 97ms/step - loss: 9.4615 - accuracy: 0.4061 - val_loss: 1.3019 - val_accuracy: 0.4058\n",
            "Epoch 2/200\n",
            "428/428 [==============================] - ETA: 0s - loss: 1.3098 - accuracy: 0.3980\n",
            "Epoch 00002: val_accuracy did not improve from 0.40585\n",
            "428/428 [==============================] - 40s 93ms/step - loss: 1.3098 - accuracy: 0.3980 - val_loss: 1.3094 - val_accuracy: 0.4058\n",
            "Epoch 3/200\n",
            "428/428 [==============================] - ETA: 0s - loss: 1.3092 - accuracy: 0.4001\n",
            "Epoch 00003: val_accuracy did not improve from 0.40585\n",
            "428/428 [==============================] - 40s 94ms/step - loss: 1.3092 - accuracy: 0.4001 - val_loss: 1.3035 - val_accuracy: 0.4058\n",
            "Epoch 4/200\n",
            "428/428 [==============================] - ETA: 0s - loss: 1.3089 - accuracy: 0.4008\n",
            "Epoch 00004: val_accuracy did not improve from 0.40585\n",
            "428/428 [==============================] - 41s 95ms/step - loss: 1.3089 - accuracy: 0.4008 - val_loss: 1.3057 - val_accuracy: 0.4058\n",
            "Epoch 5/200\n",
            "428/428 [==============================] - ETA: 0s - loss: 1.3099 - accuracy: 0.4008\n",
            "Epoch 00005: val_accuracy did not improve from 0.40585\n",
            "428/428 [==============================] - 40s 95ms/step - loss: 1.3099 - accuracy: 0.4008 - val_loss: 1.3037 - val_accuracy: 0.4058\n",
            "Epoch 6/200\n",
            "428/428 [==============================] - ETA: 0s - loss: 1.3087 - accuracy: 0.4006\n",
            "Epoch 00006: val_accuracy did not improve from 0.40585\n",
            "428/428 [==============================] - 41s 96ms/step - loss: 1.3087 - accuracy: 0.4006 - val_loss: 1.3051 - val_accuracy: 0.4058\n",
            "Epoch 7/200\n",
            "428/428 [==============================] - ETA: 0s - loss: 1.3078 - accuracy: 0.3993\n",
            "Epoch 00007: val_accuracy did not improve from 0.40585\n",
            "428/428 [==============================] - 41s 95ms/step - loss: 1.3078 - accuracy: 0.3993 - val_loss: 1.3089 - val_accuracy: 0.4058\n",
            "Epoch 8/200\n",
            "428/428 [==============================] - ETA: 0s - loss: 1.3076 - accuracy: 0.4009\n",
            "Epoch 00008: val_accuracy did not improve from 0.40585\n",
            "428/428 [==============================] - 41s 95ms/step - loss: 1.3076 - accuracy: 0.4009 - val_loss: 1.3169 - val_accuracy: 0.4058\n",
            "Epoch 9/200\n",
            "428/428 [==============================] - ETA: 0s - loss: 1.3085 - accuracy: 0.4008\n",
            "Epoch 00009: val_accuracy did not improve from 0.40585\n",
            "428/428 [==============================] - 41s 96ms/step - loss: 1.3085 - accuracy: 0.4008 - val_loss: 1.3027 - val_accuracy: 0.4058\n",
            "Epoch 10/200\n",
            "428/428 [==============================] - ETA: 0s - loss: 1.3072 - accuracy: 0.4017\n",
            "Epoch 00010: val_accuracy did not improve from 0.40585\n",
            "428/428 [==============================] - 41s 97ms/step - loss: 1.3072 - accuracy: 0.4017 - val_loss: 1.3047 - val_accuracy: 0.4058\n",
            "Epoch 11/200\n",
            "428/428 [==============================] - ETA: 0s - loss: 1.3070 - accuracy: 0.4001\n",
            "Epoch 00011: val_accuracy did not improve from 0.40585\n",
            "428/428 [==============================] - 41s 96ms/step - loss: 1.3070 - accuracy: 0.4001 - val_loss: 1.3029 - val_accuracy: 0.4058\n",
            "Epoch 12/200\n",
            "428/428 [==============================] - ETA: 0s - loss: 1.3075 - accuracy: 0.4017\n",
            "Epoch 00012: val_accuracy did not improve from 0.40585\n",
            "428/428 [==============================] - 41s 97ms/step - loss: 1.3075 - accuracy: 0.4017 - val_loss: 1.3086 - val_accuracy: 0.4058\n",
            "Epoch 13/200\n",
            "428/428 [==============================] - ETA: 0s - loss: 1.3058 - accuracy: 0.4012\n",
            "Epoch 00013: val_accuracy did not improve from 0.40585\n",
            "428/428 [==============================] - 41s 97ms/step - loss: 1.3058 - accuracy: 0.4012 - val_loss: 1.3103 - val_accuracy: 0.4058\n",
            "Epoch 14/200\n",
            "428/428 [==============================] - ETA: 0s - loss: 1.3065 - accuracy: 0.4006\n",
            "Epoch 00014: val_accuracy did not improve from 0.40585\n",
            "428/428 [==============================] - 41s 97ms/step - loss: 1.3065 - accuracy: 0.4006 - val_loss: 1.3064 - val_accuracy: 0.4058\n",
            "Epoch 15/200\n",
            "428/428 [==============================] - ETA: 0s - loss: 1.3064 - accuracy: 0.3987\n",
            "Epoch 00015: val_accuracy did not improve from 0.40585\n",
            "428/428 [==============================] - 42s 97ms/step - loss: 1.3064 - accuracy: 0.3987 - val_loss: 1.3196 - val_accuracy: 0.4058\n",
            "Epoch 16/200\n",
            "428/428 [==============================] - ETA: 0s - loss: 1.3058 - accuracy: 0.4008\n",
            "Epoch 00016: val_accuracy did not improve from 0.40585\n",
            "428/428 [==============================] - 42s 97ms/step - loss: 1.3058 - accuracy: 0.4008 - val_loss: 1.3042 - val_accuracy: 0.3493\n",
            "Epoch 17/200\n",
            "428/428 [==============================] - ETA: 0s - loss: 1.3064 - accuracy: 0.4004\n",
            "Epoch 00017: val_accuracy did not improve from 0.40585\n",
            "428/428 [==============================] - 41s 97ms/step - loss: 1.3064 - accuracy: 0.4004 - val_loss: 1.3031 - val_accuracy: 0.4058\n",
            "Epoch 18/200\n",
            "428/428 [==============================] - ETA: 0s - loss: 1.3046 - accuracy: 0.4004\n",
            "Epoch 00018: val_accuracy did not improve from 0.40585\n",
            "428/428 [==============================] - 42s 97ms/step - loss: 1.3046 - accuracy: 0.4004 - val_loss: 1.3050 - val_accuracy: 0.4058\n",
            "Epoch 19/200\n",
            "428/428 [==============================] - ETA: 0s - loss: 1.3050 - accuracy: 0.3999\n",
            "Epoch 00019: val_accuracy did not improve from 0.40585\n",
            "428/428 [==============================] - 42s 98ms/step - loss: 1.3050 - accuracy: 0.3999 - val_loss: 1.3015 - val_accuracy: 0.4058\n",
            "Epoch 20/200\n",
            "428/428 [==============================] - ETA: 0s - loss: 1.3042 - accuracy: 0.4009\n",
            "Epoch 00020: val_accuracy did not improve from 0.40585\n",
            "428/428 [==============================] - 42s 98ms/step - loss: 1.3042 - accuracy: 0.4009 - val_loss: 1.3039 - val_accuracy: 0.4058\n",
            "Epoch 21/200\n",
            "428/428 [==============================] - ETA: 0s - loss: 1.3045 - accuracy: 0.4011\n",
            "Epoch 00021: val_accuracy did not improve from 0.40585\n",
            "428/428 [==============================] - 42s 98ms/step - loss: 1.3045 - accuracy: 0.4011 - val_loss: 1.3002 - val_accuracy: 0.4058\n"
          ],
          "name": "stdout"
        }
      ]
    },
    {
      "cell_type": "markdown",
      "metadata": {
        "id": "Z3_KT4CGlonQ",
        "colab_type": "text"
      },
      "source": [
        "\n",
        "# Plots and Predictions (The Fun Part)"
      ]
    },
    {
      "cell_type": "code",
      "metadata": {
        "id": "1yu7sEiqaNnT",
        "colab_type": "code",
        "colab": {
          "base_uri": "https://localhost:8080/",
          "height": 285
        },
        "outputId": "120d8dca-6027-4eeb-dfe4-e1b0cbf93322"
      },
      "source": [
        "viz_history(history)"
      ],
      "execution_count": null,
      "outputs": [
        {
          "output_type": "display_data",
          "data": {
            "image/png": "[encoded data removed]",
            "text/plain": [
              "<Figure size 720x288 with 2 Axes>"
            ]
          },
          "metadata": {
            "tags": [],
            "needs_background": "light"
          }
        }
      ]
    },
    {
      "cell_type": "code",
      "metadata": {
        "id": "wJyd1XWkRPvL",
        "colab_type": "code",
        "colab": {}
      },
      "source": [
        "model = load_model(\"/content/drive/My Drive/Good Models/Model-best-model-accuracy-VGG.h5\")"
      ],
      "execution_count": null,
      "outputs": []
    },
    {
      "cell_type": "code",
      "metadata": {
        "id": "qzB3Ed1QOEaM",
        "colab_type": "code",
        "colab": {}
      },
      "source": [
        "predict_AER(X_test[0])"
      ],
      "execution_count": null,
      "outputs": []
    },
    {
      "cell_type": "code",
      "metadata": {
        "id": "4ithM882Okyw",
        "colab_type": "code",
        "colab": {}
      },
      "source": [
        "metrics_all(model,X_test,y_test)"
      ],
      "execution_count": null,
      "outputs": []
    },
    {
      "cell_type": "code",
      "metadata": {
        "id": "3-3wCdhwQa98",
        "colab_type": "code",
        "colab": {}
      },
      "source": [
        "yhat_probs = model.predict(X_test, verbose=0)\n",
        "yhat_classes = np.argmax(yhat_probs, axis =1)\n",
        "\n",
        "accuracy_per_class (yhat_classes, y_test)"
      ],
      "execution_count": null,
      "outputs": []
    }
  ]
}