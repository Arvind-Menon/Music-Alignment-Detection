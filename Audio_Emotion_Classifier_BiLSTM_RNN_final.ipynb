{
  "nbformat": 4,
  "nbformat_minor": 0,
  "metadata": {
    "colab": {
      "name": "Audio_Emotion_Classifier_BiLSTM_RNN_final.ipynb",
      "provenance": [],
      "collapsed_sections": [],
      "toc_visible": true
    },
    "kernelspec": {
      "name": "python3",
      "display_name": "Python 3"
    },
    "accelerator": "GPU"
  },
  "cells": [
    {
      "cell_type": "markdown",
      "metadata": {
        "id": "boVB5xMD8F1n",
        "colab_type": "text"
      },
      "source": [
        "# Acknowledgement\n",
        "### This Notebook has been realised owing to the tutorial series by Valerio Velardo. The playlist can be found at https://www.youtube.com/channel/UCZPFjMe1uRSirmSpznqvJfQ/playlists under the title \"Deep Learning (for Audio) with python. His tutorial involved genre-classification among 10 classes. \n",
        "I modified his work for my mood-classification among 4 classes task. However, the deep learning architecture used was not influenced by his tutorial. His main influence has been in user defined functions for saving and loading data with preprocessing the data, and ploting the history curve. Valerio has been made aware of me using his tutorial for my project through LinkedIn. He even undertook my survey and had like a post regarding my project on LinkedIn"
      ]
    },
    {
      "cell_type": "markdown",
      "metadata": {
        "id": "G7Uoh4mSlud-",
        "colab_type": "text"
      },
      "source": [
        "# Load Google Drive(s)"
      ]
    },
    {
      "cell_type": "code",
      "metadata": {
        "id": "ZC8W8MUzwqkf",
        "colab_type": "code",
        "colab": {
          "base_uri": "https://localhost:8080/",
          "height": 34
        },
        "outputId": "aa796082-d2cd-467f-f0ef-cf8bb79ce175"
      },
      "source": [
        "## Use the account \n",
        "## Email: arvind.final.dissertation@gmail.com\n",
        "## Password: final paper\n",
        "\n",
        "from google.colab import drive\n",
        "drive.mount('/content/drive')"
      ],
      "execution_count": null,
      "outputs": [
        {
          "output_type": "stream",
          "text": [
            "Drive already mounted at /content/drive; to attempt to forcibly remount, call drive.mount(\"/content/drive\", force_remount=True).\n"
          ],
          "name": "stdout"
        }
      ]
    },
    {
      "cell_type": "code",
      "metadata": {
        "id": "z5Rj--1JwqTb",
        "colab_type": "code",
        "colab": {}
      },
      "source": [
        "# !apt-get install -y -qq software-properties-common python-software-properties module-init-tools\n",
        "# !add-apt-repository -y ppa:alessandro-strada/ppa 2>&1 > /dev/null\n",
        "# !apt-get update -qq 2>&1 > /dev/null\n",
        "# !apt-get -y install -qq google-drive-ocamlfuse fuse\n",
        "# from google.colab import auth\n",
        "# auth.authenticate_user()\n",
        "# from oauth2client.client import GoogleCredentials\n",
        "# creds = GoogleCredentials.get_application_default()\n",
        "# import getpass\n",
        "# !google-drive-ocamlfuse -headless -id={creds.client_id} -secret={creds.client_secret} < /dev/null 2>&1 | grep URL\n",
        "# vcode = getpass.getpass()\n",
        "# !echo {vcode} | google-drive-ocamlfuse -headless -id={creds.client_id} -secret={creds.client_secret}\n",
        "# !sudo mkdir /content/drive1\n",
        "# !google-drive-ocamlfuse /content/drive1"
      ],
      "execution_count": null,
      "outputs": []
    },
    {
      "cell_type": "markdown",
      "metadata": {
        "id": "LOCgp_Ral4NQ",
        "colab_type": "text"
      },
      "source": [
        "# Libraries"
      ]
    },
    {
      "cell_type": "code",
      "metadata": {
        "id": "BSG4UeQvUJ_i",
        "colab_type": "code",
        "colab": {}
      },
      "source": [
        "import json\n",
        "import numpy as np\n",
        "from sklearn.model_selection import train_test_split\n",
        "import tensorflow.keras as keras\n",
        "import matplotlib.pyplot as plot\n",
        "import tensorflow as tf\n",
        "from keras.callbacks import ModelCheckpoint\n",
        "from keras.models import Sequential\n",
        "from keras.layers import Dense, Dropout, Flatten, Conv2D, MaxPool2D\n",
        "from keras.layers import Conv2D, MaxPooling2D, Input, AveragePooling2D\n",
        "from keras.layers.normalization import BatchNormalization\n",
        "from keras.models import Model\n",
        "from keras.utils.vis_utils import plot_model\n",
        "from keras.regularizers import l2\n",
        "\n",
        "#Sci-kit learn libs\n",
        "from sklearn.metrics import accuracy_score\n",
        "from sklearn.metrics import precision_score\n",
        "from sklearn.metrics import recall_score\n",
        "from sklearn.metrics import f1_score\n",
        "from sklearn.metrics import confusion_matrix"
      ],
      "execution_count": null,
      "outputs": []
    },
    {
      "cell_type": "markdown",
      "metadata": {
        "id": "Env7h4DkmArR",
        "colab_type": "text"
      },
      "source": [
        "# User Defined Function"
      ]
    },
    {
      "cell_type": "code",
      "metadata": {
        "id": "wai8d0LXUxle",
        "colab_type": "code",
        "colab": {}
      },
      "source": [
        "def json_load(json_path):\n",
        "    \"\"\"Loads the pre-processessed json file.\n",
        "\n",
        "        json_path: Path to json file containing data\n",
        "        X : MFFC array\n",
        "        y : encoded labels\n",
        "        mapping: corresponding labels\n",
        "    \"\"\"\n",
        "\n",
        "    with open(json_path, \"r\") as fp:\n",
        "        data = json.load(fp)\n",
        "\n",
        "    X = np.array(data[\"mfcc\"])\n",
        "    y = np.array(data[\"labels\"])\n",
        "    mapping = data[\"mapping\"]\n",
        "    return X, y, mapping"
      ],
      "execution_count": null,
      "outputs": []
    },
    {
      "cell_type": "code",
      "metadata": {
        "id": "F4tjuEoAU0Tr",
        "colab_type": "code",
        "colab": {}
      },
      "source": [
        "def viz_history(history):\n",
        "    \"\"\"Plots accuracy-vs-epoch and error-vs-epoch plots with \n",
        "\n",
        "        :param history: Training history of model\n",
        "        :return:\n",
        "    \"\"\"\n",
        "\n",
        "    figure, axes = plot.subplots(figsize=(10,4), nrows=1, ncols=2)\n",
        "    figure.tight_layout(pad=3.0)\n",
        "    \n",
        "    axes[0].set_xlabel(\"Epoch\")\n",
        "    axes[1].set_xlabel(\"Epoch\")\n",
        "\n",
        "    # create accuracy sublpot\n",
        "    axes[0].plot(history.history[\"accuracy\"], label=\"Train Accuracy\")\n",
        "    axes[0].plot(history.history[\"val_accuracy\"], label=\"Validation Accuracy\")\n",
        "    axes[0].set_ylabel(\"Accuracy\")\n",
        "    axes[0].legend(loc=\"upper right\")\n",
        "    axes[0].set_title(\"Accuracy-vs-Epoch\")\n",
        "\n",
        "    # create error sublpot\n",
        "    axes[1].plot(history.history[\"loss\"], label=\"Train Error\")\n",
        "    axes[1].plot(history.history[\"val_loss\"], label=\"Validation Error\")\n",
        "    axes[1].set_ylabel(\"Error\")    \n",
        "    axes[1].legend(loc=\"upper right\")\n",
        "    axes[1].set_title(\"error-vs-epoch\")\n",
        "\n",
        "    plot.show()\n"
      ],
      "execution_count": null,
      "outputs": []
    },
    {
      "cell_type": "code",
      "metadata": {
        "id": "c6zMeetmU4mW",
        "colab_type": "code",
        "colab": {}
      },
      "source": [
        "def train_val_test(validation_split, test_split):\n",
        "    \"\"\"Loads data and splits it into train, validation and test sets.\n",
        "\n",
        "        In AER splits, Validation_split of 0.1 and test_split of 0.1 is used ----> train:0.8,val:0.09,test:0.1\n",
        "        The above split produced the highest accuracies\n",
        "    \"\"\"\n",
        "\n",
        "    # load data\n",
        "    X, y, mapping = json_load(JSON_PATH)\n",
        "\n",
        "    # create train, validation and test split\n",
        "    X_train, X_test, y_train, y_test = train_test_split(X, y, test_size=test_split, random_state=42, stratify = y)\n",
        "    X_train, X_validation, y_train, y_validation = train_test_split(X_train, y_train, test_size=validation_split, random_state=42, stratify = y_train)\n",
        "\n",
        "    return X_train, X_validation, X_test, y_train, y_validation, y_test, mapping"
      ],
      "execution_count": null,
      "outputs": []
    },
    {
      "cell_type": "code",
      "metadata": {
        "id": "T7M28gAziZ_j",
        "colab_type": "code",
        "colab": {}
      },
      "source": [
        "def build_model_LSTM(input_shape):\n",
        "  \"\"\"Generates RNN-LSTM model\n",
        "\n",
        "  :param input_shape (tuple): Shape of input set\n",
        "  :return model: RNN-LSTM model\n",
        "  \"\"\"\n",
        "  reg = 0.0001\n",
        "  def mish(x):\n",
        "   return x * keras.backend.tanh(keras.backend.softplus(x))\n",
        "\n",
        "  # build network topology\n",
        "  model = keras.Sequential()\n",
        "\n",
        "  # 2 LSTM layers\n",
        "  model.add(keras.layers.Bidirectional(keras.layers.LSTM(194, input_shape=input_shape, return_sequences=True )))\n",
        "  model.add(keras.layers.Dropout(0.7))\n",
        "  model.add(keras.layers.Bidirectional(keras.layers.LSTM(194)))\n",
        "  model.add(keras.layers.Dropout(0.7))\n",
        "\n",
        "  # dense layer\n",
        "  model.add(keras.layers.Dense(512, activation= mish, bias_regularizer = l2(reg)))\n",
        "  model.add(keras.layers.Dense(512, activation= mish, bias_regularizer = l2(reg)))\n",
        "  model.add(keras.layers.Dense(128, activation= mish,  bias_regularizer = l2 (reg)))\n",
        "  \n",
        "  # output layer\n",
        "  model.add(keras.layers.Dense(4, activation='softmax'))\n",
        "\n",
        "  return model"
      ],
      "execution_count": null,
      "outputs": []
    },
    {
      "cell_type": "code",
      "metadata": {
        "id": "wmVpEPW2oTn0",
        "colab_type": "code",
        "colab": {}
      },
      "source": [
        "def load_model(model_path):\n",
        "      \"\"\"Loads model from the given path\n",
        "        :param model_path: route to the desired model\n",
        "        :return model: return the loaded model\n",
        "      \"\"\"\n",
        "      \n",
        "      def mish(x):\n",
        "        return x * keras.backend.tanh(keras.backend.softplus(x))\n",
        "\n",
        "      model= keras.models.load_model(model_path,\n",
        "                        custom_objects = {\"mish\":mish})\n",
        "\n",
        "      return model"
      ],
      "execution_count": null,
      "outputs": []
    },
    {
      "cell_type": "code",
      "metadata": {
        "id": "rPR8YkjGnF46",
        "colab_type": "code",
        "colab": {}
      },
      "source": [
        "def predict_AER(X_predict):\n",
        "    \"\"\"Gives the AER prediction of the loaded model.\n",
        "      \n",
        "      :param X_predict: the instance to predict\n",
        "    \"\"\"\n",
        "    X = X_predict\n",
        "    X= X[np.newaxis, ...] # array shape (1, 130, 13, 1)\n",
        "    label_dict = {}\n",
        "    for i in range(len(mapping)):\n",
        "      label_dict.update({i:mapping[i]})\n",
        "    label_dict\n",
        "\n",
        "    # perform prediction\n",
        "    prediction = model.predict(X)\n",
        "\n",
        "    # get index with max value\n",
        "    predicted_index = np.argmax(prediction, axis=1)\n",
        "    print(\"The predicted mood is:\", label_dict[predicted_index[0]])"
      ],
      "execution_count": null,
      "outputs": []
    },
    {
      "cell_type": "code",
      "metadata": {
        "id": "fUUgMrpznLre",
        "colab_type": "code",
        "colab": {}
      },
      "source": [
        "def metrics_all(model, X_test, y_test):\n",
        "    \"\"\"Provides different metrices to assess.\n",
        "\n",
        "      :param X_test: The set of instances to predict on\n",
        "      :param Y_test: Ground truth labels\n",
        "    \"\"\"\n",
        "\n",
        "    yhat_probs = model.predict(X_test, verbose=0) #class probability prediction\n",
        "    yhat_classes = np.argmax(yhat_probs, axis =1) #predicted class\n",
        "\n",
        "\n",
        "    # accuracy: (tp + tn) / (p + n)\n",
        "    accuracy = accuracy_score(y_test, yhat_classes)\n",
        "    print('Accuracy: %f' % accuracy)\n",
        "\n",
        "    # precision tp / (tp + fp)\n",
        "    precision = precision_score(y_test, yhat_classes, average='weighted')\n",
        "    print('Precision: %f' % precision)\n",
        "\n",
        "    # recall: tp / (tp + fn)\n",
        "    recall = recall_score(y_test, yhat_classes, average='weighted')\n",
        "    print('Recall: %f' % recall)\n",
        "\n",
        "    # f1: 2 tp / (2 tp + fp + fn)\n",
        "    f1 = f1_score(y_test, yhat_classes, average='weighted')\n",
        "    print('F1 score: %f' % f1)\n",
        "\n",
        "    # Confusion matrix\n",
        "    matrix = confusion_matrix(y_test, yhat_classes)\n",
        "    print(\"\\nThe confusion matrix is as below:\")\n",
        "    print(matrix)"
      ],
      "execution_count": null,
      "outputs": []
    },
    {
      "cell_type": "code",
      "metadata": {
        "id": "KmrrI8CEnS-z",
        "colab_type": "code",
        "colab": {}
      },
      "source": [
        "def accuracy_per_class(preds, labels):\n",
        "    \"\"\"\n",
        "    Provides the accuracy for each class in the AER task\n",
        "\n",
        "    :param preds: Predicted labels\n",
        "    :param labels: Ground truth labels\n",
        "    \"\"\"\n",
        "\n",
        "    label_dict = {} #dictionary to map the encoded labels to their semantic labels\n",
        "    for i in range(len(mapping)):\n",
        "      label_dict.update({i:mapping[i]})\n",
        "      \n",
        "    for label in np.unique(y_test):\n",
        "        y_preds = yhat_classes[y_test==label]\n",
        "        y_true = y_test[y_test==label]\n",
        "        print(f'Class: {label_dict[label]}')\n",
        "        print(f'Accuracy: {len(y_preds[y_preds==label])}/{len(y_true)}')\n",
        "        print(f'Accuracy (Percentage): ', (len(y_preds[y_preds==label])/len(y_true))*100, \"%\\n\")"
      ],
      "execution_count": null,
      "outputs": []
    },
    {
      "cell_type": "markdown",
      "metadata": {
        "id": "Q9WosuKBnUqg",
        "colab_type": "text"
      },
      "source": [
        "# Load and Split dataset"
      ]
    },
    {
      "cell_type": "code",
      "metadata": {
        "id": "y6Npkp0VJZrF",
        "colab_type": "code",
        "colab": {}
      },
      "source": [
        "# get train, validation, test splits\n",
        "JSON_PATH = \"/content/drive/My Drive/DEAM JSON/Sample rate:44100, MFCC coefficient:13, Track Duration:45, segments: 20, N0. FFT = 2048\"\n",
        "X_train, X_validation, X_test, y_train, y_validation, y_test, mapping = train_val_test(0.1, 0.1)"
      ],
      "execution_count": null,
      "outputs": []
    },
    {
      "cell_type": "markdown",
      "metadata": {
        "id": "RvikArVQlra1",
        "colab_type": "text"
      },
      "source": [
        "# Model Training"
      ]
    },
    {
      "cell_type": "code",
      "metadata": {
        "id": "CXGPW5CCVET5",
        "colab_type": "code",
        "colab": {
          "base_uri": "https://localhost:8080/",
          "height": 1000
        },
        "outputId": "efea6722-fa31-491e-a097-206f3fa70290"
      },
      "source": [
        "# create network\n",
        "shape_of_input = (X_train.shape[1], X_train.shape[2], 1)\n",
        "model = build_model_LSTM(shape_of_input)\n",
        "\n",
        "checkpoint = ModelCheckpoint('/content/drive/My Drive/Good Models/Model-best-model-accuracy-BiLSTM.h5', verbose = 1, monitor='val_accuracy',save_best_only=True, mode='max')\n",
        "patience = tf.keras.callbacks.EarlyStopping(monitor='val_accuracy', patience=20)\n",
        "\n",
        "# initial_learning_rate = 0.00005\n",
        "# lr_schedule = tf.keras.optimizers.schedules.ExponentialDecay(\n",
        "#     initial_learning_rate,\n",
        "#     decay_steps=10000,\n",
        "#     decay_rate=0.98,\n",
        "#     staircase=True)\n",
        "\n",
        "optimiser = tf.keras.optimizers.RMSprop(learning_rate= 0.00005)\n",
        "model.compile(optimizer=optimiser,\n",
        "              loss='sparse_categorical_crossentropy',\n",
        "              metrics=['accuracy'])\n",
        "\n",
        "plot_model(model, to_file='/content/drive/My Drive/Good Models/BiLSTM_.png', show_shapes=True, show_layer_names=True)\n",
        "\n",
        "\n",
        "# train model\n",
        "history = model.fit(X_train, y_train, validation_data=(X_validation, y_validation), batch_size=64, epochs=200, callbacks=[checkpoint,patience])\n"
      ],
      "execution_count": null,
      "outputs": [
        {
          "output_type": "stream",
          "text": [
            "Epoch 1/200\n",
            "428/428 [==============================] - ETA: 0s - loss: 1.0732 - accuracy: 0.5919\n",
            "Epoch 00001: val_accuracy improved from -inf to 0.60532, saving model to /content/drive/My Drive/Good Models/Model-best-model-accuracy-BiLSTM.h5\n",
            "428/428 [==============================] - 95s 221ms/step - loss: 1.0732 - accuracy: 0.5919 - val_loss: 1.0486 - val_accuracy: 0.6053\n",
            "Epoch 2/200\n",
            "428/428 [==============================] - ETA: 0s - loss: 1.0203 - accuracy: 0.6161\n",
            "Epoch 00002: val_accuracy improved from 0.60532 to 0.61683, saving model to /content/drive/My Drive/Good Models/Model-best-model-accuracy-BiLSTM.h5\n",
            "428/428 [==============================] - 93s 218ms/step - loss: 1.0203 - accuracy: 0.6161 - val_loss: 1.0591 - val_accuracy: 0.6168\n",
            "Epoch 3/200\n",
            "428/428 [==============================] - ETA: 0s - loss: 0.9962 - accuracy: 0.6238\n",
            "Epoch 00003: val_accuracy improved from 0.61683 to 0.62241, saving model to /content/drive/My Drive/Good Models/Model-best-model-accuracy-BiLSTM.h5\n",
            "428/428 [==============================] - 93s 217ms/step - loss: 0.9962 - accuracy: 0.6238 - val_loss: 1.0742 - val_accuracy: 0.6224\n",
            "Epoch 4/200\n",
            "428/428 [==============================] - ETA: 0s - loss: 0.9755 - accuracy: 0.6308\n",
            "Epoch 00004: val_accuracy improved from 0.62241 to 0.63556, saving model to /content/drive/My Drive/Good Models/Model-best-model-accuracy-BiLSTM.h5\n",
            "428/428 [==============================] - 92s 216ms/step - loss: 0.9755 - accuracy: 0.6308 - val_loss: 1.0604 - val_accuracy: 0.6356\n",
            "Epoch 5/200\n",
            "428/428 [==============================] - ETA: 0s - loss: 0.9549 - accuracy: 0.6372\n",
            "Epoch 00005: val_accuracy did not improve from 0.63556\n",
            "428/428 [==============================] - 92s 215ms/step - loss: 0.9549 - accuracy: 0.6372 - val_loss: 1.0848 - val_accuracy: 0.6313\n",
            "Epoch 6/200\n",
            "428/428 [==============================] - ETA: 0s - loss: 0.9331 - accuracy: 0.6450\n",
            "Epoch 00006: val_accuracy improved from 0.63556 to 0.63720, saving model to /content/drive/My Drive/Good Models/Model-best-model-accuracy-BiLSTM.h5\n",
            "428/428 [==============================] - 93s 217ms/step - loss: 0.9331 - accuracy: 0.6450 - val_loss: 1.0956 - val_accuracy: 0.6372\n",
            "Epoch 7/200\n",
            "428/428 [==============================] - ETA: 0s - loss: 0.9101 - accuracy: 0.6535\n",
            "Epoch 00007: val_accuracy improved from 0.63720 to 0.63786, saving model to /content/drive/My Drive/Good Models/Model-best-model-accuracy-BiLSTM.h5\n",
            "428/428 [==============================] - 93s 217ms/step - loss: 0.9101 - accuracy: 0.6535 - val_loss: 1.1416 - val_accuracy: 0.6379\n",
            "Epoch 8/200\n",
            "428/428 [==============================] - ETA: 0s - loss: 0.8900 - accuracy: 0.6613\n",
            "Epoch 00008: val_accuracy improved from 0.63786 to 0.66415, saving model to /content/drive/My Drive/Good Models/Model-best-model-accuracy-BiLSTM.h5\n",
            "428/428 [==============================] - 93s 217ms/step - loss: 0.8900 - accuracy: 0.6613 - val_loss: 1.0324 - val_accuracy: 0.6641\n",
            "Epoch 9/200\n",
            "428/428 [==============================] - ETA: 0s - loss: 0.8724 - accuracy: 0.6685\n",
            "Epoch 00009: val_accuracy did not improve from 0.66415\n",
            "428/428 [==============================] - 92s 216ms/step - loss: 0.8724 - accuracy: 0.6685 - val_loss: 0.9855 - val_accuracy: 0.6563\n",
            "Epoch 10/200\n",
            "428/428 [==============================] - ETA: 0s - loss: 0.8519 - accuracy: 0.6774\n",
            "Epoch 00010: val_accuracy improved from 0.66415 to 0.66645, saving model to /content/drive/My Drive/Good Models/Model-best-model-accuracy-BiLSTM.h5\n",
            "428/428 [==============================] - 93s 217ms/step - loss: 0.8519 - accuracy: 0.6774 - val_loss: 1.0354 - val_accuracy: 0.6664\n",
            "Epoch 11/200\n",
            "428/428 [==============================] - ETA: 0s - loss: 0.8339 - accuracy: 0.6863\n",
            "Epoch 00011: val_accuracy improved from 0.66645 to 0.67696, saving model to /content/drive/My Drive/Good Models/Model-best-model-accuracy-BiLSTM.h5\n",
            "428/428 [==============================] - 93s 218ms/step - loss: 0.8339 - accuracy: 0.6863 - val_loss: 0.9694 - val_accuracy: 0.6770\n",
            "Epoch 12/200\n",
            "428/428 [==============================] - ETA: 0s - loss: 0.8180 - accuracy: 0.6927\n",
            "Epoch 00012: val_accuracy did not improve from 0.67696\n",
            "428/428 [==============================] - 92s 216ms/step - loss: 0.8180 - accuracy: 0.6927 - val_loss: 1.0773 - val_accuracy: 0.6651\n",
            "Epoch 13/200\n",
            "428/428 [==============================] - ETA: 0s - loss: 0.8000 - accuracy: 0.6999\n",
            "Epoch 00013: val_accuracy did not improve from 0.67696\n",
            "428/428 [==============================] - 93s 216ms/step - loss: 0.8000 - accuracy: 0.6999 - val_loss: 0.9617 - val_accuracy: 0.6760\n",
            "Epoch 14/200\n",
            "428/428 [==============================] - ETA: 0s - loss: 0.7824 - accuracy: 0.7030\n",
            "Epoch 00014: val_accuracy improved from 0.67696 to 0.67926, saving model to /content/drive/My Drive/Good Models/Model-best-model-accuracy-BiLSTM.h5\n",
            "428/428 [==============================] - 93s 217ms/step - loss: 0.7824 - accuracy: 0.7030 - val_loss: 1.0033 - val_accuracy: 0.6793\n",
            "Epoch 15/200\n",
            "428/428 [==============================] - ETA: 0s - loss: 0.7659 - accuracy: 0.7127\n",
            "Epoch 00015: val_accuracy did not improve from 0.67926\n",
            "428/428 [==============================] - 93s 217ms/step - loss: 0.7659 - accuracy: 0.7127 - val_loss: 0.9895 - val_accuracy: 0.6789\n",
            "Epoch 16/200\n",
            "428/428 [==============================] - ETA: 0s - loss: 0.7530 - accuracy: 0.7188\n",
            "Epoch 00016: val_accuracy did not improve from 0.67926\n",
            "428/428 [==============================] - 93s 216ms/step - loss: 0.7530 - accuracy: 0.7188 - val_loss: 0.9909 - val_accuracy: 0.6737\n",
            "Epoch 17/200\n",
            "428/428 [==============================] - ETA: 0s - loss: 0.7377 - accuracy: 0.7265\n",
            "Epoch 00017: val_accuracy did not improve from 0.67926\n",
            "428/428 [==============================] - 93s 217ms/step - loss: 0.7377 - accuracy: 0.7265 - val_loss: 0.9939 - val_accuracy: 0.6753\n",
            "Epoch 18/200\n",
            "428/428 [==============================] - ETA: 0s - loss: 0.7220 - accuracy: 0.7339\n",
            "Epoch 00018: val_accuracy improved from 0.67926 to 0.68222, saving model to /content/drive/My Drive/Good Models/Model-best-model-accuracy-BiLSTM.h5\n",
            "428/428 [==============================] - 93s 218ms/step - loss: 0.7220 - accuracy: 0.7339 - val_loss: 0.9596 - val_accuracy: 0.6822\n",
            "Epoch 19/200\n",
            "428/428 [==============================] - ETA: 0s - loss: 0.7122 - accuracy: 0.7361\n",
            "Epoch 00019: val_accuracy improved from 0.68222 to 0.69898, saving model to /content/drive/My Drive/Good Models/Model-best-model-accuracy-BiLSTM.h5\n",
            "428/428 [==============================] - 93s 218ms/step - loss: 0.7122 - accuracy: 0.7361 - val_loss: 0.9065 - val_accuracy: 0.6990\n",
            "Epoch 20/200\n",
            "428/428 [==============================] - ETA: 0s - loss: 0.6951 - accuracy: 0.7458\n",
            "Epoch 00020: val_accuracy did not improve from 0.69898\n",
            "428/428 [==============================] - 93s 217ms/step - loss: 0.6951 - accuracy: 0.7458 - val_loss: 0.9663 - val_accuracy: 0.6878\n",
            "Epoch 21/200\n",
            "428/428 [==============================] - ETA: 0s - loss: 0.6863 - accuracy: 0.7481\n",
            "Epoch 00021: val_accuracy improved from 0.69898 to 0.70621, saving model to /content/drive/My Drive/Good Models/Model-best-model-accuracy-BiLSTM.h5\n",
            "428/428 [==============================] - 93s 218ms/step - loss: 0.6863 - accuracy: 0.7481 - val_loss: 0.8841 - val_accuracy: 0.7062\n",
            "Epoch 22/200\n",
            "428/428 [==============================] - ETA: 0s - loss: 0.6772 - accuracy: 0.7502\n",
            "Epoch 00022: val_accuracy improved from 0.70621 to 0.71443, saving model to /content/drive/My Drive/Good Models/Model-best-model-accuracy-BiLSTM.h5\n",
            "428/428 [==============================] - 93s 218ms/step - loss: 0.6772 - accuracy: 0.7502 - val_loss: 0.8967 - val_accuracy: 0.7144\n",
            "Epoch 23/200\n",
            "428/428 [==============================] - ETA: 0s - loss: 0.6611 - accuracy: 0.7589\n",
            "Epoch 00023: val_accuracy did not improve from 0.71443\n",
            "428/428 [==============================] - 93s 217ms/step - loss: 0.6611 - accuracy: 0.7589 - val_loss: 0.9409 - val_accuracy: 0.7000\n",
            "Epoch 24/200\n",
            "428/428 [==============================] - ETA: 0s - loss: 0.6531 - accuracy: 0.7629\n",
            "Epoch 00024: val_accuracy improved from 0.71443 to 0.72363, saving model to /content/drive/My Drive/Good Models/Model-best-model-accuracy-BiLSTM.h5\n",
            "428/428 [==============================] - 93s 218ms/step - loss: 0.6531 - accuracy: 0.7629 - val_loss: 0.8735 - val_accuracy: 0.7236\n",
            "Epoch 25/200\n",
            "428/428 [==============================] - ETA: 0s - loss: 0.6382 - accuracy: 0.7683\n",
            "Epoch 00025: val_accuracy did not improve from 0.72363\n",
            "428/428 [==============================] - 93s 217ms/step - loss: 0.6382 - accuracy: 0.7683 - val_loss: 0.9613 - val_accuracy: 0.6993\n",
            "Epoch 26/200\n",
            "428/428 [==============================] - ETA: 0s - loss: 0.6292 - accuracy: 0.7716\n",
            "Epoch 00026: val_accuracy did not improve from 0.72363\n",
            "428/428 [==============================] - 93s 217ms/step - loss: 0.6292 - accuracy: 0.7716 - val_loss: 1.0004 - val_accuracy: 0.6908\n",
            "Epoch 27/200\n",
            "428/428 [==============================] - ETA: 0s - loss: 0.6195 - accuracy: 0.7757\n",
            "Epoch 00027: val_accuracy did not improve from 0.72363\n",
            "428/428 [==============================] - 93s 218ms/step - loss: 0.6195 - accuracy: 0.7757 - val_loss: 0.8977 - val_accuracy: 0.7148\n",
            "Epoch 28/200\n",
            "428/428 [==============================] - ETA: 0s - loss: 0.6118 - accuracy: 0.7773\n",
            "Epoch 00028: val_accuracy did not improve from 0.72363\n",
            "428/428 [==============================] - 93s 217ms/step - loss: 0.6118 - accuracy: 0.7773 - val_loss: 1.0502 - val_accuracy: 0.6983\n",
            "Epoch 29/200\n",
            "428/428 [==============================] - ETA: 0s - loss: 0.5994 - accuracy: 0.7851\n",
            "Epoch 00029: val_accuracy did not improve from 0.72363\n",
            "428/428 [==============================] - 93s 217ms/step - loss: 0.5994 - accuracy: 0.7851 - val_loss: 0.8850 - val_accuracy: 0.7167\n",
            "Epoch 30/200\n",
            "428/428 [==============================] - ETA: 0s - loss: 0.5915 - accuracy: 0.7857\n",
            "Epoch 00030: val_accuracy improved from 0.72363 to 0.73809, saving model to /content/drive/My Drive/Good Models/Model-best-model-accuracy-BiLSTM.h5\n",
            "428/428 [==============================] - 93s 218ms/step - loss: 0.5915 - accuracy: 0.7857 - val_loss: 0.8658 - val_accuracy: 0.7381\n",
            "Epoch 31/200\n",
            "428/428 [==============================] - ETA: 0s - loss: 0.5797 - accuracy: 0.7889\n",
            "Epoch 00031: val_accuracy did not improve from 0.73809\n",
            "428/428 [==============================] - 93s 217ms/step - loss: 0.5797 - accuracy: 0.7889 - val_loss: 1.0751 - val_accuracy: 0.6819\n",
            "Epoch 32/200\n",
            "428/428 [==============================] - ETA: 0s - loss: 0.5736 - accuracy: 0.7966\n",
            "Epoch 00032: val_accuracy did not improve from 0.73809\n",
            "428/428 [==============================] - 93s 217ms/step - loss: 0.5736 - accuracy: 0.7966 - val_loss: 0.9211 - val_accuracy: 0.7249\n",
            "Epoch 33/200\n",
            "428/428 [==============================] - ETA: 0s - loss: 0.5669 - accuracy: 0.7959\n",
            "Epoch 00033: val_accuracy improved from 0.73809 to 0.74039, saving model to /content/drive/My Drive/Good Models/Model-best-model-accuracy-BiLSTM.h5\n",
            "428/428 [==============================] - 93s 218ms/step - loss: 0.5669 - accuracy: 0.7959 - val_loss: 0.8376 - val_accuracy: 0.7404\n",
            "Epoch 34/200\n",
            "428/428 [==============================] - ETA: 0s - loss: 0.5525 - accuracy: 0.8010\n",
            "Epoch 00034: val_accuracy did not improve from 0.74039\n",
            "428/428 [==============================] - 93s 217ms/step - loss: 0.5525 - accuracy: 0.8010 - val_loss: 0.8540 - val_accuracy: 0.7371\n",
            "Epoch 35/200\n",
            "428/428 [==============================] - ETA: 0s - loss: 0.5456 - accuracy: 0.8040\n",
            "Epoch 00035: val_accuracy improved from 0.74039 to 0.74992, saving model to /content/drive/My Drive/Good Models/Model-best-model-accuracy-BiLSTM.h5\n",
            "428/428 [==============================] - 94s 219ms/step - loss: 0.5456 - accuracy: 0.8040 - val_loss: 0.8126 - val_accuracy: 0.7499\n",
            "Epoch 36/200\n",
            "428/428 [==============================] - ETA: 0s - loss: 0.5419 - accuracy: 0.8050\n",
            "Epoch 00036: val_accuracy did not improve from 0.74992\n",
            "428/428 [==============================] - 93s 217ms/step - loss: 0.5419 - accuracy: 0.8050 - val_loss: 0.8722 - val_accuracy: 0.7371\n",
            "Epoch 37/200\n",
            "428/428 [==============================] - ETA: 0s - loss: 0.5321 - accuracy: 0.8081\n",
            "Epoch 00037: val_accuracy did not improve from 0.74992\n",
            "428/428 [==============================] - 93s 217ms/step - loss: 0.5321 - accuracy: 0.8081 - val_loss: 0.9166 - val_accuracy: 0.7240\n",
            "Epoch 38/200\n",
            "428/428 [==============================] - ETA: 0s - loss: 0.5214 - accuracy: 0.8139\n",
            "Epoch 00038: val_accuracy did not improve from 0.74992\n",
            "428/428 [==============================] - 93s 217ms/step - loss: 0.5214 - accuracy: 0.8139 - val_loss: 0.8692 - val_accuracy: 0.7417\n",
            "Epoch 39/200\n",
            "428/428 [==============================] - ETA: 0s - loss: 0.5206 - accuracy: 0.8134\n",
            "Epoch 00039: val_accuracy improved from 0.74992 to 0.75255, saving model to /content/drive/My Drive/Good Models/Model-best-model-accuracy-BiLSTM.h5\n",
            "428/428 [==============================] - 93s 218ms/step - loss: 0.5206 - accuracy: 0.8134 - val_loss: 0.7904 - val_accuracy: 0.7525\n",
            "Epoch 40/200\n",
            "428/428 [==============================] - ETA: 0s - loss: 0.5114 - accuracy: 0.8162\n",
            "Epoch 00040: val_accuracy improved from 0.75255 to 0.75288, saving model to /content/drive/My Drive/Good Models/Model-best-model-accuracy-BiLSTM.h5\n",
            "428/428 [==============================] - 93s 218ms/step - loss: 0.5114 - accuracy: 0.8162 - val_loss: 0.8238 - val_accuracy: 0.7529\n",
            "Epoch 41/200\n",
            "428/428 [==============================] - ETA: 0s - loss: 0.5016 - accuracy: 0.8205\n",
            "Epoch 00041: val_accuracy did not improve from 0.75288\n",
            "428/428 [==============================] - 93s 217ms/step - loss: 0.5016 - accuracy: 0.8205 - val_loss: 0.8229 - val_accuracy: 0.7529\n",
            "Epoch 42/200\n",
            "428/428 [==============================] - ETA: 0s - loss: 0.4937 - accuracy: 0.8223\n",
            "Epoch 00042: val_accuracy did not improve from 0.75288\n",
            "428/428 [==============================] - 93s 217ms/step - loss: 0.4937 - accuracy: 0.8223 - val_loss: 0.9791 - val_accuracy: 0.7095\n",
            "Epoch 43/200\n",
            "428/428 [==============================] - ETA: 0s - loss: 0.4872 - accuracy: 0.8258\n",
            "Epoch 00043: val_accuracy did not improve from 0.75288\n",
            "428/428 [==============================] - 93s 217ms/step - loss: 0.4872 - accuracy: 0.8258 - val_loss: 0.8486 - val_accuracy: 0.7447\n",
            "Epoch 44/200\n",
            "428/428 [==============================] - ETA: 0s - loss: 0.4802 - accuracy: 0.8279\n",
            "Epoch 00044: val_accuracy did not improve from 0.75288\n",
            "428/428 [==============================] - 93s 217ms/step - loss: 0.4802 - accuracy: 0.8279 - val_loss: 0.9379 - val_accuracy: 0.7394\n",
            "Epoch 45/200\n",
            "428/428 [==============================] - ETA: 0s - loss: 0.4747 - accuracy: 0.8316\n",
            "Epoch 00045: val_accuracy did not improve from 0.75288\n",
            "428/428 [==============================] - 93s 217ms/step - loss: 0.4747 - accuracy: 0.8316 - val_loss: 0.8610 - val_accuracy: 0.7335\n",
            "Epoch 46/200\n",
            "428/428 [==============================] - ETA: 0s - loss: 0.4686 - accuracy: 0.8311\n",
            "Epoch 00046: val_accuracy did not improve from 0.75288\n",
            "428/428 [==============================] - 93s 216ms/step - loss: 0.4686 - accuracy: 0.8311 - val_loss: 0.8866 - val_accuracy: 0.7374\n",
            "Epoch 47/200\n",
            "428/428 [==============================] - ETA: 0s - loss: 0.4620 - accuracy: 0.8337\n",
            "Epoch 00047: val_accuracy did not improve from 0.75288\n",
            "428/428 [==============================] - 93s 217ms/step - loss: 0.4620 - accuracy: 0.8337 - val_loss: 0.9035 - val_accuracy: 0.7410\n",
            "Epoch 48/200\n",
            "428/428 [==============================] - ETA: 0s - loss: 0.4552 - accuracy: 0.8369\n",
            "Epoch 00048: val_accuracy improved from 0.75288 to 0.76339, saving model to /content/drive/My Drive/Good Models/Model-best-model-accuracy-BiLSTM.h5\n",
            "428/428 [==============================] - 93s 218ms/step - loss: 0.4552 - accuracy: 0.8369 - val_loss: 0.8446 - val_accuracy: 0.7634\n",
            "Epoch 49/200\n",
            "428/428 [==============================] - ETA: 0s - loss: 0.4487 - accuracy: 0.8394\n",
            "Epoch 00049: val_accuracy did not improve from 0.76339\n",
            "428/428 [==============================] - 93s 217ms/step - loss: 0.4487 - accuracy: 0.8394 - val_loss: 0.8345 - val_accuracy: 0.7473\n",
            "Epoch 50/200\n",
            "428/428 [==============================] - ETA: 0s - loss: 0.4414 - accuracy: 0.8443\n",
            "Epoch 00050: val_accuracy did not improve from 0.76339\n",
            "428/428 [==============================] - 93s 217ms/step - loss: 0.4414 - accuracy: 0.8443 - val_loss: 1.0608 - val_accuracy: 0.7115\n",
            "Epoch 51/200\n",
            "428/428 [==============================] - ETA: 0s - loss: 0.4356 - accuracy: 0.8456\n",
            "Epoch 00051: val_accuracy did not improve from 0.76339\n",
            "428/428 [==============================] - 93s 217ms/step - loss: 0.4356 - accuracy: 0.8456 - val_loss: 1.0318 - val_accuracy: 0.7138\n",
            "Epoch 52/200\n",
            "428/428 [==============================] - ETA: 0s - loss: 0.4318 - accuracy: 0.8462\n",
            "Epoch 00052: val_accuracy did not improve from 0.76339\n",
            "428/428 [==============================] - 93s 217ms/step - loss: 0.4318 - accuracy: 0.8462 - val_loss: 0.8907 - val_accuracy: 0.7529\n",
            "Epoch 53/200\n",
            "428/428 [==============================] - ETA: 0s - loss: 0.4239 - accuracy: 0.8498\n",
            "Epoch 00053: val_accuracy did not improve from 0.76339\n",
            "428/428 [==============================] - 93s 216ms/step - loss: 0.4239 - accuracy: 0.8498 - val_loss: 0.8585 - val_accuracy: 0.7525\n",
            "Epoch 54/200\n",
            "428/428 [==============================] - ETA: 0s - loss: 0.4178 - accuracy: 0.8500\n",
            "Epoch 00054: val_accuracy improved from 0.76339 to 0.76898, saving model to /content/drive/My Drive/Good Models/Model-best-model-accuracy-BiLSTM.h5\n",
            "428/428 [==============================] - 93s 218ms/step - loss: 0.4178 - accuracy: 0.8500 - val_loss: 0.8243 - val_accuracy: 0.7690\n",
            "Epoch 55/200\n",
            "428/428 [==============================] - ETA: 0s - loss: 0.4125 - accuracy: 0.8519\n",
            "Epoch 00055: val_accuracy did not improve from 0.76898\n",
            "428/428 [==============================] - 93s 216ms/step - loss: 0.4125 - accuracy: 0.8519 - val_loss: 1.0691 - val_accuracy: 0.7217\n",
            "Epoch 56/200\n",
            "428/428 [==============================] - ETA: 0s - loss: 0.4066 - accuracy: 0.8550\n",
            "Epoch 00056: val_accuracy did not improve from 0.76898\n",
            "428/428 [==============================] - 93s 217ms/step - loss: 0.4066 - accuracy: 0.8550 - val_loss: 0.8317 - val_accuracy: 0.7634\n",
            "Epoch 57/200\n",
            "428/428 [==============================] - ETA: 0s - loss: 0.4003 - accuracy: 0.8574\n",
            "Epoch 00057: val_accuracy did not improve from 0.76898\n",
            "428/428 [==============================] - 93s 218ms/step - loss: 0.4003 - accuracy: 0.8574 - val_loss: 0.9454 - val_accuracy: 0.7384\n",
            "Epoch 58/200\n",
            "428/428 [==============================] - ETA: 0s - loss: 0.3951 - accuracy: 0.8595\n",
            "Epoch 00058: val_accuracy did not improve from 0.76898\n",
            "428/428 [==============================] - 93s 217ms/step - loss: 0.3951 - accuracy: 0.8595 - val_loss: 0.9101 - val_accuracy: 0.7545\n",
            "Epoch 59/200\n",
            "428/428 [==============================] - ETA: 0s - loss: 0.3929 - accuracy: 0.8615\n",
            "Epoch 00059: val_accuracy did not improve from 0.76898\n",
            "428/428 [==============================] - 93s 217ms/step - loss: 0.3929 - accuracy: 0.8615 - val_loss: 0.8738 - val_accuracy: 0.7496\n",
            "Epoch 60/200\n",
            "428/428 [==============================] - ETA: 0s - loss: 0.3818 - accuracy: 0.8635\n",
            "Epoch 00060: val_accuracy did not improve from 0.76898\n",
            "428/428 [==============================] - 93s 217ms/step - loss: 0.3818 - accuracy: 0.8635 - val_loss: 0.8960 - val_accuracy: 0.7493\n",
            "Epoch 61/200\n",
            "428/428 [==============================] - ETA: 0s - loss: 0.3826 - accuracy: 0.8640\n",
            "Epoch 00061: val_accuracy did not improve from 0.76898\n",
            "428/428 [==============================] - 93s 217ms/step - loss: 0.3826 - accuracy: 0.8640 - val_loss: 0.8403 - val_accuracy: 0.7680\n",
            "Epoch 62/200\n",
            "428/428 [==============================] - ETA: 0s - loss: 0.3754 - accuracy: 0.8662\n",
            "Epoch 00062: val_accuracy improved from 0.76898 to 0.77588, saving model to /content/drive/My Drive/Good Models/Model-best-model-accuracy-BiLSTM.h5\n",
            "428/428 [==============================] - 93s 218ms/step - loss: 0.3754 - accuracy: 0.8662 - val_loss: 0.8183 - val_accuracy: 0.7759\n",
            "Epoch 63/200\n",
            "428/428 [==============================] - ETA: 0s - loss: 0.3674 - accuracy: 0.8707\n",
            "Epoch 00063: val_accuracy improved from 0.77588 to 0.78015, saving model to /content/drive/My Drive/Good Models/Model-best-model-accuracy-BiLSTM.h5\n",
            "428/428 [==============================] - 94s 219ms/step - loss: 0.3674 - accuracy: 0.8707 - val_loss: 0.8154 - val_accuracy: 0.7802\n",
            "Epoch 64/200\n",
            "428/428 [==============================] - ETA: 0s - loss: 0.3649 - accuracy: 0.8704\n",
            "Epoch 00064: val_accuracy did not improve from 0.78015\n",
            "428/428 [==============================] - 93s 218ms/step - loss: 0.3649 - accuracy: 0.8704 - val_loss: 0.8908 - val_accuracy: 0.7604\n",
            "Epoch 65/200\n",
            "428/428 [==============================] - ETA: 0s - loss: 0.3607 - accuracy: 0.8731\n",
            "Epoch 00065: val_accuracy did not improve from 0.78015\n",
            "428/428 [==============================] - 93s 217ms/step - loss: 0.3607 - accuracy: 0.8731 - val_loss: 0.9094 - val_accuracy: 0.7443\n",
            "Epoch 66/200\n",
            "428/428 [==============================] - ETA: 0s - loss: 0.3561 - accuracy: 0.8755\n",
            "Epoch 00066: val_accuracy improved from 0.78015 to 0.78114, saving model to /content/drive/My Drive/Good Models/Model-best-model-accuracy-BiLSTM.h5\n",
            "428/428 [==============================] - 93s 217ms/step - loss: 0.3561 - accuracy: 0.8755 - val_loss: 0.7820 - val_accuracy: 0.7811\n",
            "Epoch 67/200\n",
            "428/428 [==============================] - ETA: 0s - loss: 0.3474 - accuracy: 0.8761\n",
            "Epoch 00067: val_accuracy did not improve from 0.78114\n",
            "428/428 [==============================] - 93s 216ms/step - loss: 0.3474 - accuracy: 0.8761 - val_loss: 0.8761 - val_accuracy: 0.7716\n",
            "Epoch 68/200\n",
            "428/428 [==============================] - ETA: 0s - loss: 0.3435 - accuracy: 0.8793\n",
            "Epoch 00068: val_accuracy did not improve from 0.78114\n",
            "428/428 [==============================] - 93s 216ms/step - loss: 0.3435 - accuracy: 0.8793 - val_loss: 0.9430 - val_accuracy: 0.7450\n",
            "Epoch 69/200\n",
            "428/428 [==============================] - ETA: 0s - loss: 0.3389 - accuracy: 0.8818\n",
            "Epoch 00069: val_accuracy did not improve from 0.78114\n",
            "428/428 [==============================] - 93s 216ms/step - loss: 0.3389 - accuracy: 0.8818 - val_loss: 0.8806 - val_accuracy: 0.7631\n",
            "Epoch 70/200\n",
            "428/428 [==============================] - ETA: 0s - loss: 0.3343 - accuracy: 0.8830\n",
            "Epoch 00070: val_accuracy did not improve from 0.78114\n",
            "428/428 [==============================] - 93s 216ms/step - loss: 0.3343 - accuracy: 0.8830 - val_loss: 0.9473 - val_accuracy: 0.7512\n",
            "Epoch 71/200\n",
            "428/428 [==============================] - ETA: 0s - loss: 0.3277 - accuracy: 0.8853\n",
            "Epoch 00071: val_accuracy did not improve from 0.78114\n",
            "428/428 [==============================] - 92s 216ms/step - loss: 0.3277 - accuracy: 0.8853 - val_loss: 1.1243 - val_accuracy: 0.7217\n",
            "Epoch 72/200\n",
            "428/428 [==============================] - ETA: 0s - loss: 0.3258 - accuracy: 0.8852\n",
            "Epoch 00072: val_accuracy did not improve from 0.78114\n",
            "428/428 [==============================] - 92s 215ms/step - loss: 0.3258 - accuracy: 0.8852 - val_loss: 0.8953 - val_accuracy: 0.7729\n",
            "Epoch 73/200\n",
            "428/428 [==============================] - ETA: 0s - loss: 0.3191 - accuracy: 0.8888\n",
            "Epoch 00073: val_accuracy did not improve from 0.78114\n",
            "428/428 [==============================] - 92s 216ms/step - loss: 0.3191 - accuracy: 0.8888 - val_loss: 0.8869 - val_accuracy: 0.7729\n",
            "Epoch 74/200\n",
            "428/428 [==============================] - ETA: 0s - loss: 0.3161 - accuracy: 0.8869\n",
            "Epoch 00074: val_accuracy improved from 0.78114 to 0.80053, saving model to /content/drive/My Drive/Good Models/Model-best-model-accuracy-BiLSTM.h5\n",
            "428/428 [==============================] - 93s 217ms/step - loss: 0.3161 - accuracy: 0.8869 - val_loss: 0.7597 - val_accuracy: 0.8005\n",
            "Epoch 75/200\n",
            "428/428 [==============================] - ETA: 0s - loss: 0.3134 - accuracy: 0.8884\n",
            "Epoch 00075: val_accuracy did not improve from 0.80053\n",
            "428/428 [==============================] - 93s 217ms/step - loss: 0.3134 - accuracy: 0.8884 - val_loss: 0.9383 - val_accuracy: 0.7614\n",
            "Epoch 76/200\n",
            "428/428 [==============================] - ETA: 0s - loss: 0.3038 - accuracy: 0.8923\n",
            "Epoch 00076: val_accuracy did not improve from 0.80053\n",
            "428/428 [==============================] - 93s 216ms/step - loss: 0.3038 - accuracy: 0.8923 - val_loss: 1.0921 - val_accuracy: 0.7453\n",
            "Epoch 77/200\n",
            "428/428 [==============================] - ETA: 0s - loss: 0.3062 - accuracy: 0.8928\n",
            "Epoch 00077: val_accuracy did not improve from 0.80053\n",
            "428/428 [==============================] - 93s 216ms/step - loss: 0.3062 - accuracy: 0.8928 - val_loss: 0.9334 - val_accuracy: 0.7680\n",
            "Epoch 78/200\n",
            "428/428 [==============================] - ETA: 0s - loss: 0.2968 - accuracy: 0.8951\n",
            "Epoch 00078: val_accuracy did not improve from 0.80053\n",
            "428/428 [==============================] - 93s 217ms/step - loss: 0.2968 - accuracy: 0.8951 - val_loss: 0.8420 - val_accuracy: 0.7913\n",
            "Epoch 79/200\n",
            "428/428 [==============================] - ETA: 0s - loss: 0.2985 - accuracy: 0.8936\n",
            "Epoch 00079: val_accuracy did not improve from 0.80053\n",
            "428/428 [==============================] - 93s 216ms/step - loss: 0.2985 - accuracy: 0.8936 - val_loss: 0.8781 - val_accuracy: 0.7733\n",
            "Epoch 80/200\n",
            "428/428 [==============================] - ETA: 0s - loss: 0.2916 - accuracy: 0.8965\n",
            "Epoch 00080: val_accuracy did not improve from 0.80053\n",
            "428/428 [==============================] - 93s 216ms/step - loss: 0.2916 - accuracy: 0.8965 - val_loss: 1.0570 - val_accuracy: 0.7502\n",
            "Epoch 81/200\n",
            "428/428 [==============================] - ETA: 0s - loss: 0.2847 - accuracy: 0.9009\n",
            "Epoch 00081: val_accuracy did not improve from 0.80053\n",
            "428/428 [==============================] - 93s 217ms/step - loss: 0.2847 - accuracy: 0.9009 - val_loss: 1.0321 - val_accuracy: 0.7568\n",
            "Epoch 82/200\n",
            "428/428 [==============================] - ETA: 0s - loss: 0.2876 - accuracy: 0.8997\n",
            "Epoch 00082: val_accuracy did not improve from 0.80053\n",
            "428/428 [==============================] - 93s 216ms/step - loss: 0.2876 - accuracy: 0.8997 - val_loss: 0.8030 - val_accuracy: 0.7910\n",
            "Epoch 83/200\n",
            "428/428 [==============================] - ETA: 0s - loss: 0.2835 - accuracy: 0.9018\n",
            "Epoch 00083: val_accuracy did not improve from 0.80053\n",
            "428/428 [==============================] - 93s 217ms/step - loss: 0.2835 - accuracy: 0.9018 - val_loss: 0.9113 - val_accuracy: 0.7785\n",
            "Epoch 84/200\n",
            "428/428 [==============================] - ETA: 0s - loss: 0.2761 - accuracy: 0.9037\n",
            "Epoch 00084: val_accuracy did not improve from 0.80053\n",
            "428/428 [==============================] - 93s 216ms/step - loss: 0.2761 - accuracy: 0.9037 - val_loss: 0.8309 - val_accuracy: 0.7828\n",
            "Epoch 85/200\n",
            "428/428 [==============================] - ETA: 0s - loss: 0.2743 - accuracy: 0.9029\n",
            "Epoch 00085: val_accuracy did not improve from 0.80053\n",
            "428/428 [==============================] - 93s 217ms/step - loss: 0.2743 - accuracy: 0.9029 - val_loss: 0.8442 - val_accuracy: 0.7903\n",
            "Epoch 86/200\n",
            "428/428 [==============================] - ETA: 0s - loss: 0.2680 - accuracy: 0.9071\n",
            "Epoch 00086: val_accuracy did not improve from 0.80053\n",
            "428/428 [==============================] - 93s 217ms/step - loss: 0.2680 - accuracy: 0.9071 - val_loss: 0.9334 - val_accuracy: 0.7683\n",
            "Epoch 87/200\n",
            "428/428 [==============================] - ETA: 0s - loss: 0.2617 - accuracy: 0.9081\n",
            "Epoch 00087: val_accuracy did not improve from 0.80053\n",
            "428/428 [==============================] - 92s 216ms/step - loss: 0.2617 - accuracy: 0.9081 - val_loss: 0.9618 - val_accuracy: 0.7713\n",
            "Epoch 88/200\n",
            "428/428 [==============================] - ETA: 0s - loss: 0.2598 - accuracy: 0.9101\n",
            "Epoch 00088: val_accuracy did not improve from 0.80053\n",
            "428/428 [==============================] - 93s 216ms/step - loss: 0.2598 - accuracy: 0.9101 - val_loss: 0.9109 - val_accuracy: 0.7838\n",
            "Epoch 89/200\n",
            "428/428 [==============================] - ETA: 0s - loss: 0.2588 - accuracy: 0.9098\n",
            "Epoch 00089: val_accuracy did not improve from 0.80053\n",
            "428/428 [==============================] - 93s 216ms/step - loss: 0.2588 - accuracy: 0.9098 - val_loss: 1.1910 - val_accuracy: 0.7479\n",
            "Epoch 90/200\n",
            "428/428 [==============================] - ETA: 0s - loss: 0.2575 - accuracy: 0.9097\n",
            "Epoch 00090: val_accuracy did not improve from 0.80053\n",
            "428/428 [==============================] - 93s 216ms/step - loss: 0.2575 - accuracy: 0.9097 - val_loss: 1.1018 - val_accuracy: 0.7614\n",
            "Epoch 91/200\n",
            "428/428 [==============================] - ETA: 0s - loss: 0.2512 - accuracy: 0.9121\n",
            "Epoch 00091: val_accuracy did not improve from 0.80053\n",
            "428/428 [==============================] - 93s 216ms/step - loss: 0.2512 - accuracy: 0.9121 - val_loss: 0.9367 - val_accuracy: 0.7920\n",
            "Epoch 92/200\n",
            "428/428 [==============================] - ETA: 0s - loss: 0.2483 - accuracy: 0.9118\n",
            "Epoch 00092: val_accuracy did not improve from 0.80053\n",
            "428/428 [==============================] - 93s 216ms/step - loss: 0.2483 - accuracy: 0.9118 - val_loss: 0.9056 - val_accuracy: 0.7894\n",
            "Epoch 93/200\n",
            "428/428 [==============================] - ETA: 0s - loss: 0.2451 - accuracy: 0.9147\n",
            "Epoch 00093: val_accuracy did not improve from 0.80053\n",
            "428/428 [==============================] - 93s 216ms/step - loss: 0.2451 - accuracy: 0.9147 - val_loss: 0.9018 - val_accuracy: 0.7815\n",
            "Epoch 94/200\n",
            "428/428 [==============================] - ETA: 0s - loss: 0.2433 - accuracy: 0.9144\n",
            "Epoch 00094: val_accuracy did not improve from 0.80053\n",
            "428/428 [==============================] - 93s 216ms/step - loss: 0.2433 - accuracy: 0.9144 - val_loss: 1.0191 - val_accuracy: 0.7627\n"
          ],
          "name": "stdout"
        }
      ]
    },
    {
      "cell_type": "markdown",
      "metadata": {
        "id": "Z3_KT4CGlonQ",
        "colab_type": "text"
      },
      "source": [
        "\n",
        "# Plots and Predictions (The Fun Part)"
      ]
    },
    {
      "cell_type": "code",
      "metadata": {
        "id": "1yu7sEiqaNnT",
        "colab_type": "code",
        "colab": {
          "base_uri": "https://localhost:8080/",
          "height": 167
        },
        "outputId": "acc51b93-225f-4f9c-8b37-e26e648e9a81"
      },
      "source": [
        "viz_history(history)"
      ],
      "execution_count": null,
      "outputs": [
        {
          "output_type": "error",
          "ename": "NameError",
          "evalue": "ignored",
          "traceback": [
            "\u001b[0;31m---------------------------------------------------------------------------\u001b[0m",
            "\u001b[0;31mNameError\u001b[0m                                 Traceback (most recent call last)",
            "\u001b[0;32m<ipython-input-12-1e77a2c58656>\u001b[0m in \u001b[0;36m<module>\u001b[0;34m()\u001b[0m\n\u001b[0;32m----> 1\u001b[0;31m \u001b[0mviz_history\u001b[0m\u001b[0;34m(\u001b[0m\u001b[0mhistory\u001b[0m\u001b[0;34m)\u001b[0m\u001b[0;34m\u001b[0m\u001b[0;34m\u001b[0m\u001b[0m\n\u001b[0m",
            "\u001b[0;31mNameError\u001b[0m: name 'history' is not defined"
          ]
        }
      ]
    },
    {
      "cell_type": "code",
      "metadata": {
        "id": "wJyd1XWkRPvL",
        "colab_type": "code",
        "colab": {}
      },
      "source": [
        "model = load_model(\"/content/drive/My Drive/Good Models/Model-best-model-accuracy-BiLSTM.h5\")"
      ],
      "execution_count": null,
      "outputs": []
    },
    {
      "cell_type": "code",
      "metadata": {
        "id": "qzB3Ed1QOEaM",
        "colab_type": "code",
        "colab": {
          "base_uri": "https://localhost:8080/",
          "height": 34
        },
        "outputId": "395bac70-dac1-42aa-f73d-a59b1db39633"
      },
      "source": [
        "predict_AER(X_test[0])"
      ],
      "execution_count": null,
      "outputs": [
        {
          "output_type": "stream",
          "text": [
            "The predicted mood is: Happy\n"
          ],
          "name": "stdout"
        }
      ]
    },
    {
      "cell_type": "code",
      "metadata": {
        "id": "4ithM882Okyw",
        "colab_type": "code",
        "colab": {
          "base_uri": "https://localhost:8080/",
          "height": 193
        },
        "outputId": "5057e978-d63e-41c4-a109-16fe995495c1"
      },
      "source": [
        "metrics_all(model,X_test,y_test)"
      ],
      "execution_count": null,
      "outputs": [
        {
          "output_type": "stream",
          "text": [
            "Accuracy: 0.858959\n",
            "Precision: 0.857037\n",
            "Recall: 0.858959\n",
            "F1 score: 0.857558\n",
            "\n",
            "The confusion matrix is as below:\n",
            "[[1048   63   38   33]\n",
            " [  41 1261   27   43]\n",
            " [  57   45  290   14]\n",
            " [  45   57   14  306]]\n"
          ],
          "name": "stdout"
        }
      ]
    },
    {
      "cell_type": "code",
      "metadata": {
        "id": "3-3wCdhwQa98",
        "colab_type": "code",
        "colab": {
          "base_uri": "https://localhost:8080/",
          "height": 298
        },
        "outputId": "ebd1db55-5907-4b26-d3ff-d606d466fe24"
      },
      "source": [
        "yhat_probs = model.predict(X_test, verbose=0)\n",
        "yhat_classes = np.argmax(yhat_probs, axis =1)\n",
        "\n",
        "accuracy_per_class (yhat_classes, y_test)"
      ],
      "execution_count": null,
      "outputs": [
        {
          "output_type": "stream",
          "text": [
            "Class: Happy\n",
            "Accuracy: 1048/1182\n",
            "Accuracy (Percentage):  88.66328257191202 %\n",
            "\n",
            "Class: Sad\n",
            "Accuracy: 1261/1372\n",
            "Accuracy (Percentage):  91.90962099125365 %\n",
            "\n",
            "Class: Angry\n",
            "Accuracy: 290/406\n",
            "Accuracy (Percentage):  71.42857142857143 %\n",
            "\n",
            "Class: Relaxed\n",
            "Accuracy: 306/422\n",
            "Accuracy (Percentage):  72.51184834123224 %\n",
            "\n"
          ],
          "name": "stdout"
        }
      ]
    }
  ]
}