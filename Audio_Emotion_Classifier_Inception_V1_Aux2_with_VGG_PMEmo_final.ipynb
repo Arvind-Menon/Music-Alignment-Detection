{
  "nbformat": 4,
  "nbformat_minor": 0,
  "metadata": {
    "colab": {
      "name": "Audio_Emotion_Classifier_Inception-V1-Aux2-with-VGG_PMEmo_final.ipynb",
      "provenance": [],
      "collapsed_sections": [],
      "toc_visible": true
    },
    "kernelspec": {
      "name": "python3",
      "display_name": "Python 3"
    },
    "accelerator": "GPU"
  },
  "cells": [
    {
      "cell_type": "markdown",
      "metadata": {
        "id": "boVB5xMD8F1n",
        "colab_type": "text"
      },
      "source": [
        "# Acknowledgement\n",
        "### This Notebook has been realised owing to the tutorial series by Valerio Velardo. The playlist can be found at https://www.youtube.com/channel/UCZPFjMe1uRSirmSpznqvJfQ/playlists under the title \"Deep Learning (for Audio) with python. His tutorial involved genre-classification among 10 classes. \n",
        "I modified his work for my mood-classification among 4 classes task. However, the deep learning architecture used was not influenced by his tutorial. His main influence has been in user defined functions for saving and loading data with preprocessing the data, and ploting the history curve. Valerio has been made aware of me using his tutorial for my project through LinkedIn. He even undertook my survey and had like a post regarding my project on LinkedIn"
      ]
    },
    {
      "cell_type": "markdown",
      "metadata": {
        "id": "G7Uoh4mSlud-",
        "colab_type": "text"
      },
      "source": [
        "# Load Google Drive(s)"
      ]
    },
    {
      "cell_type": "code",
      "metadata": {
        "id": "ZC8W8MUzwqkf",
        "colab_type": "code",
        "colab": {
          "base_uri": "https://localhost:8080/",
          "height": 34
        },
        "outputId": "b6942dda-023c-4e88-9ff9-5cc6e878f5d4"
      },
      "source": [
        "## Use the account \n",
        "## Email: arvind.final.dissertation@gmail.com\n",
        "## Password: final paper\n",
        "\n",
        "from google.colab import drive\n",
        "drive.mount('/content/drive')"
      ],
      "execution_count": null,
      "outputs": [
        {
          "output_type": "stream",
          "text": [
            "Mounted at /content/drive\n"
          ],
          "name": "stdout"
        }
      ]
    },
    {
      "cell_type": "code",
      "metadata": {
        "id": "z5Rj--1JwqTb",
        "colab_type": "code",
        "colab": {}
      },
      "source": [
        "# !apt-get install -y -qq software-properties-common python-software-properties module-init-tools\n",
        "# !add-apt-repository -y ppa:alessandro-strada/ppa 2>&1 > /dev/null\n",
        "# !apt-get update -qq 2>&1 > /dev/null\n",
        "# !apt-get -y install -qq google-drive-ocamlfuse fuse\n",
        "# from google.colab import auth\n",
        "# auth.authenticate_user()\n",
        "# from oauth2client.client import GoogleCredentials\n",
        "# creds = GoogleCredentials.get_application_default()\n",
        "# import getpass\n",
        "# !google-drive-ocamlfuse -headless -id={creds.client_id} -secret={creds.client_secret} < /dev/null 2>&1 | grep URL\n",
        "# vcode = getpass.getpass()\n",
        "# !echo {vcode} | google-drive-ocamlfuse -headless -id={creds.client_id} -secret={creds.client_secret}\n",
        "# !sudo mkdir /content/drive1\n",
        "# !google-drive-ocamlfuse /content/drive1"
      ],
      "execution_count": null,
      "outputs": []
    },
    {
      "cell_type": "markdown",
      "metadata": {
        "id": "LOCgp_Ral4NQ",
        "colab_type": "text"
      },
      "source": [
        "# Libraries"
      ]
    },
    {
      "cell_type": "code",
      "metadata": {
        "id": "BSG4UeQvUJ_i",
        "colab_type": "code",
        "colab": {}
      },
      "source": [
        "import json\n",
        "import numpy as np\n",
        "from sklearn.model_selection import train_test_split\n",
        "import tensorflow.keras as keras\n",
        "import matplotlib.pyplot as plot\n",
        "import tensorflow as tf\n",
        "from keras.callbacks import ModelCheckpoint\n",
        "from keras.models import Sequential\n",
        "from keras.layers import Dense, Dropout, Flatten, Conv2D, MaxPool2D\n",
        "from keras.layers import Conv2D, MaxPooling2D, Input, AveragePooling2D\n",
        "from keras.layers.normalization import BatchNormalization\n",
        "from keras.models import Model\n",
        "from keras.utils.vis_utils import plot_model\n",
        "from keras.regularizers import l2\n",
        "\n",
        "#Sci-kit learn libs\n",
        "from sklearn.metrics import accuracy_score\n",
        "from sklearn.metrics import precision_score\n",
        "from sklearn.metrics import recall_score\n",
        "from sklearn.metrics import f1_score\n",
        "from sklearn.metrics import confusion_matrix"
      ],
      "execution_count": null,
      "outputs": []
    },
    {
      "cell_type": "markdown",
      "metadata": {
        "id": "Env7h4DkmArR",
        "colab_type": "text"
      },
      "source": [
        "# User Defined Function"
      ]
    },
    {
      "cell_type": "code",
      "metadata": {
        "id": "wai8d0LXUxle",
        "colab_type": "code",
        "colab": {}
      },
      "source": [
        "def json_load(json_path):\n",
        "    \"\"\"Loads the pre-processessed json file.\n",
        "\n",
        "        json_path: Path to json file containing data\n",
        "        X : MFFC array\n",
        "        y : encoded labels\n",
        "        mapping: corresponding labels\n",
        "    \"\"\"\n",
        "\n",
        "    with open(json_path, \"r\") as fp:\n",
        "        data = json.load(fp)\n",
        "\n",
        "    X = np.array(data[\"mfcc_values\"])\n",
        "    y = np.array(data[\"label_encode\"])\n",
        "    musicId = np.array(data[\"musicId\"])\n",
        "    mapping = data[\"map\"]\n",
        "    return X, y, mapping, musicId"
      ],
      "execution_count": null,
      "outputs": []
    },
    {
      "cell_type": "code",
      "metadata": {
        "id": "F4tjuEoAU0Tr",
        "colab_type": "code",
        "colab": {}
      },
      "source": [
        "def viz_history(history):\n",
        "    \"\"\"Plots accuracy-vs-epoch and error-vs-epoch plots with \n",
        "\n",
        "        :param history: Training history of model\n",
        "        :return:\n",
        "    \"\"\"\n",
        "\n",
        "    figure, axes = plot.subplots(figsize=(10,4), nrows=1, ncols=2)\n",
        "    figure.tight_layout(pad=3.0)\n",
        "    \n",
        "    axes[0].set_xlabel(\"Epoch\")\n",
        "    axes[1].set_xlabel(\"Epoch\")\n",
        "\n",
        "    # create accuracy sublpot\n",
        "    axes[0].plot(history.history[\"accuracy\"], label=\"Train Accuracy\")\n",
        "    axes[0].plot(history.history[\"val_accuracy\"], label=\"Validation Accuracy\")\n",
        "    axes[0].set_ylabel(\"Accuracy\")\n",
        "    axes[0].legend(loc=\"upper right\")\n",
        "    axes[0].set_title(\"Accuracy-vs-Epoch\")\n",
        "\n",
        "    # create error sublpot\n",
        "    axes[1].plot(history.history[\"loss\"], label=\"Train Error\")\n",
        "    axes[1].plot(history.history[\"val_loss\"], label=\"Validation Error\")\n",
        "    axes[1].set_ylabel(\"Error\")    \n",
        "    axes[1].legend(loc=\"upper right\")\n",
        "    axes[1].set_title(\"error-vs-epoch\")\n",
        "\n",
        "    plot.show()\n"
      ],
      "execution_count": null,
      "outputs": []
    },
    {
      "cell_type": "code",
      "metadata": {
        "id": "c6zMeetmU4mW",
        "colab_type": "code",
        "colab": {}
      },
      "source": [
        "def train_val_test(validation_split, test_split):\n",
        "    \"\"\"Loads data and splits it into train, validation and test sets.\n",
        "\n",
        "        In AER splits, Validation_split of 0.1 and test_split of 0.1 is used ----> train:0.8,val:0.09,test:0.1\n",
        "        The above split produced the highest accuracies\n",
        "    \"\"\"\n",
        "\n",
        "    # load data\n",
        "    X, y, mapping, musicId = json_load(JSON_PATH)\n",
        "\n",
        "    # create train, validation and test split\n",
        "    X_train, X_test, y_train, y_test = train_test_split(X, y, test_size=test_split, random_state=42, stratify = y)\n",
        "    X_train, X_validation, y_train, y_validation = train_test_split(X_train, y_train, test_size=validation_split, random_state=42, stratify = y_train)\n",
        "\n",
        "    # add an axis to input sets\n",
        "    X_train = X_train[..., np.newaxis]\n",
        "    X_validation = X_validation[..., np.newaxis]\n",
        "    X_test = X_test[..., np.newaxis]\n",
        "\n",
        "    return X_train, X_validation, X_test, y_train, y_validation, y_test, mapping,musicId"
      ],
      "execution_count": null,
      "outputs": []
    },
    {
      "cell_type": "code",
      "metadata": {
        "id": "QNbyIHixgqQu",
        "colab_type": "code",
        "colab": {}
      },
      "source": [
        "    def inception_layer(input_incpetion):  \n",
        "    # \"\"\"Returns the output of the inception module. It use two 3x3 filters in place of one 5x5 filter, inspired from the VGG paper. \n",
        "\n",
        "    #     :param input_inception: The inception modules input\n",
        "    #     :retun output_inception: Output of the inception module\n",
        "\n",
        "    #     The below code has been adapted from a tutorial by Maël Fabian at: https://maelfabien.github.io/deeplearning/inception/#\n",
        "    # \"\"\"\n",
        "\n",
        "    # Regularization penalty\n",
        "      reg = 0.00001\n",
        "\n",
        "      # 1st Arm\n",
        "      inception1 = Conv2D(96, (1,1), padding='same', activation='relu', bias_regularizer= l2(reg), kernel_regularizer=l2(reg))(input_incpetion)\n",
        "      inception1 = Conv2D(128, (3,3), padding='same', activation='relu', bias_regularizer= l2(reg), kernel_regularizer=l2(reg))(inception1)\n",
        "\n",
        "      # 2nd Arm\n",
        "      inception2 = Conv2D(16, (1,1), padding='same', activation='relu', bias_regularizer= l2(reg), kernel_regularizer=l2(reg))(input_incpetion)\n",
        "      ## VGG effect\n",
        "      inception2 = Conv2D(32, (3,3), padding='same', activation='relu', bias_regularizer= l2(reg), kernel_regularizer=l2(reg))(inception2)\n",
        "      inception2 = Conv2D(32, (3,3), padding='same', activation='relu', bias_regularizer= l2(reg), kernel_regularizer=l2(reg))(inception2)\n",
        "\n",
        "      # 3rd Arm\n",
        "      inception3 = MaxPooling2D((3,3), strides=(1,1), padding='same')(input_incpetion)\n",
        "      inception3 = Conv2D(32, (1,1), padding='same', activation='relu', bias_regularizer= l2(reg), kernel_regularizer=l2(reg))(inception3)\n",
        "\n",
        "      # 4th Arm\n",
        "      inception4 = Conv2D(64, (1,1), padding = 'same', activation = 'relu', bias_regularizer= l2(reg), kernel_regularizer=l2(reg))(input_incpetion)\n",
        "\n",
        "      # Concatenated output\n",
        "      output_inception = tf.keras.layers.concatenate([inception1, inception2, inception3, inception4], axis = 3)\n",
        "\n",
        "      return(output_inception)"
      ],
      "execution_count": null,
      "outputs": []
    },
    {
      "cell_type": "code",
      "metadata": {
        "id": "T7M28gAziZ_j",
        "colab_type": "code",
        "colab": {}
      },
      "source": [
        "def build_model_inception_with_vgg(shape_of_input):\n",
        "    \"\"\"Generates Inception V model\n",
        "\n",
        "    :param shape_of_input: tuple with the Shape of input set\n",
        "    :return model: Inception-V1-Aux2 output\n",
        "    \"\"\"\n",
        "\n",
        "    # mish is an activation function similar to swish that improved the model accuracy when used in the dense layers\n",
        "    def mish(x):\n",
        "      return x * keras.backend.tanh(keras.backend.softplus(x))\n",
        "\n",
        "      \n",
        "    input_img = Input(shape=shape_of_input)\n",
        "    num_classes = 4 #specific to the problem in hand\n",
        "\n",
        "    layer_1 = Conv2D(64, (7,7), padding='same', strides = (2,2), activation='relu')(input_img)\n",
        "    layer_1 = MaxPooling2D((3,3), strides=(2,2), padding='same')(layer_1)\n",
        "    layer_1 = BatchNormalization()(layer_1)\n",
        "    layer_1 = Conv2D(64, (1,1), padding = 'valid', activation = 'relu', strides = (1,1))(layer_1)\n",
        "    layer_1 = Conv2D(192, (3,3), padding = 'same', activation = 'relu', strides = (1,1))(layer_1)\n",
        "    layer_1 = MaxPooling2D((3,3), strides=(2,2), padding='same')(layer_1)\n",
        "\n",
        "    output_1 = layer_1\n",
        "\n",
        "    #####\n",
        "    inception3a = inception_layer(output_1)\n",
        "    inception3b = inception_layer(inception3a)\n",
        "\n",
        "    inception4a = inception_layer(inception3b)\n",
        "    inception4b = inception_layer(inception4a)\n",
        "    inception4c = inception_layer(inception4b)\n",
        "    inception4d = inception_layer(inception4c)\n",
        "    inception4e = inception_layer(inception4d)\n",
        "\n",
        "    mid_4e = MaxPooling2D((3,3), strides=(2,2), padding='same')(inception4e)\n",
        "    mid_4e = Dropout(0.5)(mid_4e)\n",
        "\n",
        "    inception5a = inception_layer(mid_4e)\n",
        "    inception5b = inception_layer(inception5a)\n",
        "    inception5c = inception_layer(inception5b)\n",
        "    inception5_output1 = AveragePooling2D((5,5), strides = (3,3), padding = 'same')(inception5c)\n",
        "    mid_4e = Dropout(0.5)(mid_4e)\n",
        "    inception5_output1 = Conv2D(128, (1,1), strides = (1,1), activation = mish, padding = 'same')(inception5_output1)\n",
        "    \n",
        "    flat_1= Flatten()(inception5_output1)\n",
        "    dense1_output1 = Dense(512, activation= mish)(flat_1)\n",
        "    dense1_output1 = Dense(512, activation= mish)(dense1_output1)\n",
        "    dense1_output1 = Dropout(0.7)(dense1_output1)\n",
        "    output0 = Dense(num_classes, activation='softmax')(dense1_output1)\n",
        "\n",
        "    model = Model([input_img], output0)\n",
        "    return model\n"
      ],
      "execution_count": null,
      "outputs": []
    },
    {
      "cell_type": "code",
      "metadata": {
        "id": "wmVpEPW2oTn0",
        "colab_type": "code",
        "colab": {}
      },
      "source": [
        "def load_model(model_path):\n",
        "      \"\"\"Loads model from the given path\n",
        "        :param model_path: route to the desired model\n",
        "        :return model: return the loaded model\n",
        "      \"\"\"\n",
        "      \n",
        "      def mish(x):\n",
        "        return x * keras.backend.tanh(keras.backend.softplus(x))\n",
        "\n",
        "      model= keras.models.load_model(model_path,\n",
        "                        custom_objects = {\"mish\":mish})\n",
        "\n",
        "      return model"
      ],
      "execution_count": null,
      "outputs": []
    },
    {
      "cell_type": "code",
      "metadata": {
        "id": "rPR8YkjGnF46",
        "colab_type": "code",
        "colab": {}
      },
      "source": [
        "def predict_AER(X_predict):\n",
        "    \"\"\"Gives the AER prediction of the loaded model.\n",
        "      \n",
        "      :param X_predict: the instance to predict\n",
        "    \"\"\"\n",
        "    X = X_predict\n",
        "    X= X[np.newaxis, ...] # array shape (1, 130, 13, 1)\n",
        "    label_dict = {}\n",
        "    for i in range(len(mapping)):\n",
        "      label_dict.update({i:mapping[i]})\n",
        "    label_dict\n",
        "\n",
        "    # perform prediction\n",
        "    prediction = model.predict(X)\n",
        "\n",
        "    # get index with max value\n",
        "    predicted_index = np.argmax(prediction, axis=1)\n",
        "    print(\"The predicted mood is:\", label_dict[predicted_index[0]])"
      ],
      "execution_count": null,
      "outputs": []
    },
    {
      "cell_type": "code",
      "metadata": {
        "id": "fUUgMrpznLre",
        "colab_type": "code",
        "colab": {}
      },
      "source": [
        "def metrics_all(model, X_test, y_test):\n",
        "    \"\"\"Provides different metrices to assess.\n",
        "\n",
        "      :param X_test: The set of instances to predict on\n",
        "      :param Y_test: Ground truth labels\n",
        "    \"\"\"\n",
        "\n",
        "    yhat_probs = model.predict(X_test, verbose=0) #class probability prediction\n",
        "    yhat_classes = np.argmax(yhat_probs, axis =1) #predicted class\n",
        "\n",
        "\n",
        "    # accuracy: (tp + tn) / (p + n)\n",
        "    accuracy = accuracy_score(y_test, yhat_classes)\n",
        "    print('Accuracy: %f' % accuracy)\n",
        "\n",
        "    # precision tp / (tp + fp)\n",
        "    precision = precision_score(y_test, yhat_classes, average='weighted')\n",
        "    print('Precision: %f' % precision)\n",
        "\n",
        "    # recall: tp / (tp + fn)\n",
        "    recall = recall_score(y_test, yhat_classes, average='weighted')\n",
        "    print('Recall: %f' % recall)\n",
        "\n",
        "    # f1: 2 tp / (2 tp + fp + fn)\n",
        "    f1 = f1_score(y_test, yhat_classes, average='weighted')\n",
        "    print('F1 score: %f' % f1)\n",
        "\n",
        "    # Confusion matrix\n",
        "    matrix = confusion_matrix(y_test, yhat_classes)\n",
        "    print(\"\\nThe confusion matrix is as below:\")\n",
        "    print(matrix)"
      ],
      "execution_count": null,
      "outputs": []
    },
    {
      "cell_type": "code",
      "metadata": {
        "id": "KmrrI8CEnS-z",
        "colab_type": "code",
        "colab": {}
      },
      "source": [
        "def accuracy_per_class(preds, labels):\n",
        "    \"\"\"\n",
        "    Provides the accuracy for each class in the AER task\n",
        "\n",
        "    :param preds: Predicted labels\n",
        "    :param labels: Ground truth labels\n",
        "    \"\"\"\n",
        "\n",
        "    label_dict = {} #dictionary to map the encoded labels to their semantic labels\n",
        "    for i in range(len(mapping)):\n",
        "      label_dict.update({i:mapping[i]})\n",
        "      \n",
        "    for label in np.unique(y_test):\n",
        "        y_preds = yhat_classes[y_test==label]\n",
        "        y_true = y_test[y_test==label]\n",
        "        print(f'Class: {label_dict[label]}')\n",
        "        print(f'Accuracy: {len(y_preds[y_preds==label])}/{len(y_true)}')\n",
        "        print(f'Accuracy (Percentage): ', (len(y_preds[y_preds==label])/len(y_true))*100, \"%\\n\")"
      ],
      "execution_count": null,
      "outputs": []
    },
    {
      "cell_type": "markdown",
      "metadata": {
        "id": "Q9WosuKBnUqg",
        "colab_type": "text"
      },
      "source": [
        "# Load and Split dataset"
      ]
    },
    {
      "cell_type": "code",
      "metadata": {
        "id": "y6Npkp0VJZrF",
        "colab_type": "code",
        "colab": {}
      },
      "source": [
        "# get train, validation, test splits\n",
        "# JSON_PATH = \"/content/drive/My Drive/DEAM JSON/Sample rate:44100, MFCC coefficient:13, Track Duration:45, segments: 20, N0. FFT = 2048\" # DEAM\n",
        "JSON_PATH = \"/content/drive/My Drive/PMEmo json/Sample rate:44100, MFCC coefficient:13, Track Duration:15, segments: 20, FFT_samples = 2048.json\"#PMEmo2019\n",
        "\n",
        "X_train, X_validation, X_test, y_train, y_validation, y_test, mapping, musicId = train_val_test(0.1, 0.1)"
      ],
      "execution_count": null,
      "outputs": []
    },
    {
      "cell_type": "markdown",
      "metadata": {
        "id": "RvikArVQlra1",
        "colab_type": "text"
      },
      "source": [
        "# Model Training"
      ]
    },
    {
      "cell_type": "code",
      "metadata": {
        "id": "CXGPW5CCVET5",
        "colab_type": "code",
        "colab": {
          "base_uri": "https://localhost:8080/",
          "height": 1000
        },
        "outputId": "a6ee7cb3-218c-4c71-f8a8-76e112f523c8"
      },
      "source": [
        "# create network\n",
        "shape_of_input = (X_train.shape[1], X_train.shape[2], 1)\n",
        "model = build_model_inception_with_vgg(shape_of_input)\n",
        "\n",
        "checkpoint = ModelCheckpoint('/content/drive/My Drive/Good Models/PMEmo_Model-best-model-accuracy-inception-v1_Aux2.h5', verbose = 1, monitor='val_accuracy',save_best_only=True, mode='max')\n",
        "patience = tf.keras.callbacks.EarlyStopping(monitor='val_accuracy', patience=10)\n",
        "\n",
        "\n",
        "optimiser = tf.keras.optimizers.RMSprop(learning_rate= 0.00005)\n",
        "model.compile(optimizer=optimiser,\n",
        "              loss='sparse_categorical_crossentropy',\n",
        "              metrics=['accuracy'])\n",
        "\n",
        "model.summary()\n",
        "plot_model(model, to_file='/content/drive/My Drive/Good Models/PMemo_inception_aux_2_.png', show_shapes=True, show_layer_names=True)\n",
        "\n",
        "\n",
        "# train model\n",
        "history = model.fit(X_train, y_train, validation_data=(X_validation, y_validation), batch_size=64, epochs=200, callbacks=[checkpoint,patience])\n"
      ],
      "execution_count": null,
      "outputs": [
        {
          "output_type": "stream",
          "text": [
            "Model: \"functional_3\"\n",
            "__________________________________________________________________________________________________\n",
            "Layer (type)                    Output Shape         Param #     Connected to                     \n",
            "==================================================================================================\n",
            "input_3 (InputLayer)            [(None, 65, 13, 1)]  0                                            \n",
            "__________________________________________________________________________________________________\n",
            "conv2d_77 (Conv2D)              (None, 33, 7, 64)    3200        input_3[0][0]                    \n",
            "__________________________________________________________________________________________________\n",
            "max_pooling2d_15 (MaxPooling2D) (None, 17, 4, 64)    0           conv2d_77[0][0]                  \n",
            "__________________________________________________________________________________________________\n",
            "batch_normalization_2 (BatchNor (None, 17, 4, 64)    256         max_pooling2d_15[0][0]           \n",
            "__________________________________________________________________________________________________\n",
            "conv2d_78 (Conv2D)              (None, 17, 4, 64)    4160        batch_normalization_2[0][0]      \n",
            "__________________________________________________________________________________________________\n",
            "conv2d_79 (Conv2D)              (None, 17, 4, 192)   110784      conv2d_78[0][0]                  \n",
            "__________________________________________________________________________________________________\n",
            "max_pooling2d_16 (MaxPooling2D) (None, 9, 2, 192)    0           conv2d_79[0][0]                  \n",
            "__________________________________________________________________________________________________\n",
            "conv2d_82 (Conv2D)              (None, 9, 2, 16)     3088        max_pooling2d_16[0][0]           \n",
            "__________________________________________________________________________________________________\n",
            "conv2d_80 (Conv2D)              (None, 9, 2, 96)     18528       max_pooling2d_16[0][0]           \n",
            "__________________________________________________________________________________________________\n",
            "conv2d_83 (Conv2D)              (None, 9, 2, 32)     4640        conv2d_82[0][0]                  \n",
            "__________________________________________________________________________________________________\n",
            "max_pooling2d_17 (MaxPooling2D) (None, 9, 2, 192)    0           max_pooling2d_16[0][0]           \n",
            "__________________________________________________________________________________________________\n",
            "conv2d_81 (Conv2D)              (None, 9, 2, 128)    110720      conv2d_80[0][0]                  \n",
            "__________________________________________________________________________________________________\n",
            "conv2d_84 (Conv2D)              (None, 9, 2, 32)     9248        conv2d_83[0][0]                  \n",
            "__________________________________________________________________________________________________\n",
            "conv2d_85 (Conv2D)              (None, 9, 2, 32)     6176        max_pooling2d_17[0][0]           \n",
            "__________________________________________________________________________________________________\n",
            "conv2d_86 (Conv2D)              (None, 9, 2, 64)     12352       max_pooling2d_16[0][0]           \n",
            "__________________________________________________________________________________________________\n",
            "concatenate_10 (Concatenate)    (None, 9, 2, 256)    0           conv2d_81[0][0]                  \n",
            "                                                                 conv2d_84[0][0]                  \n",
            "                                                                 conv2d_85[0][0]                  \n",
            "                                                                 conv2d_86[0][0]                  \n",
            "__________________________________________________________________________________________________\n",
            "conv2d_89 (Conv2D)              (None, 9, 2, 16)     4112        concatenate_10[0][0]             \n",
            "__________________________________________________________________________________________________\n",
            "conv2d_87 (Conv2D)              (None, 9, 2, 96)     24672       concatenate_10[0][0]             \n",
            "__________________________________________________________________________________________________\n",
            "conv2d_90 (Conv2D)              (None, 9, 2, 32)     4640        conv2d_89[0][0]                  \n",
            "__________________________________________________________________________________________________\n",
            "max_pooling2d_18 (MaxPooling2D) (None, 9, 2, 256)    0           concatenate_10[0][0]             \n",
            "__________________________________________________________________________________________________\n",
            "conv2d_88 (Conv2D)              (None, 9, 2, 128)    110720      conv2d_87[0][0]                  \n",
            "__________________________________________________________________________________________________\n",
            "conv2d_91 (Conv2D)              (None, 9, 2, 32)     9248        conv2d_90[0][0]                  \n",
            "__________________________________________________________________________________________________\n",
            "conv2d_92 (Conv2D)              (None, 9, 2, 32)     8224        max_pooling2d_18[0][0]           \n",
            "__________________________________________________________________________________________________\n",
            "conv2d_93 (Conv2D)              (None, 9, 2, 64)     16448       concatenate_10[0][0]             \n",
            "__________________________________________________________________________________________________\n",
            "concatenate_11 (Concatenate)    (None, 9, 2, 256)    0           conv2d_88[0][0]                  \n",
            "                                                                 conv2d_91[0][0]                  \n",
            "                                                                 conv2d_92[0][0]                  \n",
            "                                                                 conv2d_93[0][0]                  \n",
            "__________________________________________________________________________________________________\n",
            "conv2d_96 (Conv2D)              (None, 9, 2, 16)     4112        concatenate_11[0][0]             \n",
            "__________________________________________________________________________________________________\n",
            "conv2d_94 (Conv2D)              (None, 9, 2, 96)     24672       concatenate_11[0][0]             \n",
            "__________________________________________________________________________________________________\n",
            "conv2d_97 (Conv2D)              (None, 9, 2, 32)     4640        conv2d_96[0][0]                  \n",
            "__________________________________________________________________________________________________\n",
            "max_pooling2d_19 (MaxPooling2D) (None, 9, 2, 256)    0           concatenate_11[0][0]             \n",
            "__________________________________________________________________________________________________\n",
            "conv2d_95 (Conv2D)              (None, 9, 2, 128)    110720      conv2d_94[0][0]                  \n",
            "__________________________________________________________________________________________________\n",
            "conv2d_98 (Conv2D)              (None, 9, 2, 32)     9248        conv2d_97[0][0]                  \n",
            "__________________________________________________________________________________________________\n",
            "conv2d_99 (Conv2D)              (None, 9, 2, 32)     8224        max_pooling2d_19[0][0]           \n",
            "__________________________________________________________________________________________________\n",
            "conv2d_100 (Conv2D)             (None, 9, 2, 64)     16448       concatenate_11[0][0]             \n",
            "__________________________________________________________________________________________________\n",
            "concatenate_12 (Concatenate)    (None, 9, 2, 256)    0           conv2d_95[0][0]                  \n",
            "                                                                 conv2d_98[0][0]                  \n",
            "                                                                 conv2d_99[0][0]                  \n",
            "                                                                 conv2d_100[0][0]                 \n",
            "__________________________________________________________________________________________________\n",
            "conv2d_103 (Conv2D)             (None, 9, 2, 16)     4112        concatenate_12[0][0]             \n",
            "__________________________________________________________________________________________________\n",
            "conv2d_101 (Conv2D)             (None, 9, 2, 96)     24672       concatenate_12[0][0]             \n",
            "__________________________________________________________________________________________________\n",
            "conv2d_104 (Conv2D)             (None, 9, 2, 32)     4640        conv2d_103[0][0]                 \n",
            "__________________________________________________________________________________________________\n",
            "max_pooling2d_20 (MaxPooling2D) (None, 9, 2, 256)    0           concatenate_12[0][0]             \n",
            "__________________________________________________________________________________________________\n",
            "conv2d_102 (Conv2D)             (None, 9, 2, 128)    110720      conv2d_101[0][0]                 \n",
            "__________________________________________________________________________________________________\n",
            "conv2d_105 (Conv2D)             (None, 9, 2, 32)     9248        conv2d_104[0][0]                 \n",
            "__________________________________________________________________________________________________\n",
            "conv2d_106 (Conv2D)             (None, 9, 2, 32)     8224        max_pooling2d_20[0][0]           \n",
            "__________________________________________________________________________________________________\n",
            "conv2d_107 (Conv2D)             (None, 9, 2, 64)     16448       concatenate_12[0][0]             \n",
            "__________________________________________________________________________________________________\n",
            "concatenate_13 (Concatenate)    (None, 9, 2, 256)    0           conv2d_102[0][0]                 \n",
            "                                                                 conv2d_105[0][0]                 \n",
            "                                                                 conv2d_106[0][0]                 \n",
            "                                                                 conv2d_107[0][0]                 \n",
            "__________________________________________________________________________________________________\n",
            "conv2d_110 (Conv2D)             (None, 9, 2, 16)     4112        concatenate_13[0][0]             \n",
            "__________________________________________________________________________________________________\n",
            "conv2d_108 (Conv2D)             (None, 9, 2, 96)     24672       concatenate_13[0][0]             \n",
            "__________________________________________________________________________________________________\n",
            "conv2d_111 (Conv2D)             (None, 9, 2, 32)     4640        conv2d_110[0][0]                 \n",
            "__________________________________________________________________________________________________\n",
            "max_pooling2d_21 (MaxPooling2D) (None, 9, 2, 256)    0           concatenate_13[0][0]             \n",
            "__________________________________________________________________________________________________\n",
            "conv2d_109 (Conv2D)             (None, 9, 2, 128)    110720      conv2d_108[0][0]                 \n",
            "__________________________________________________________________________________________________\n",
            "conv2d_112 (Conv2D)             (None, 9, 2, 32)     9248        conv2d_111[0][0]                 \n",
            "__________________________________________________________________________________________________\n",
            "conv2d_113 (Conv2D)             (None, 9, 2, 32)     8224        max_pooling2d_21[0][0]           \n",
            "__________________________________________________________________________________________________\n",
            "conv2d_114 (Conv2D)             (None, 9, 2, 64)     16448       concatenate_13[0][0]             \n",
            "__________________________________________________________________________________________________\n",
            "concatenate_14 (Concatenate)    (None, 9, 2, 256)    0           conv2d_109[0][0]                 \n",
            "                                                                 conv2d_112[0][0]                 \n",
            "                                                                 conv2d_113[0][0]                 \n",
            "                                                                 conv2d_114[0][0]                 \n",
            "__________________________________________________________________________________________________\n",
            "conv2d_117 (Conv2D)             (None, 9, 2, 16)     4112        concatenate_14[0][0]             \n",
            "__________________________________________________________________________________________________\n",
            "conv2d_115 (Conv2D)             (None, 9, 2, 96)     24672       concatenate_14[0][0]             \n",
            "__________________________________________________________________________________________________\n",
            "conv2d_118 (Conv2D)             (None, 9, 2, 32)     4640        conv2d_117[0][0]                 \n",
            "__________________________________________________________________________________________________\n",
            "max_pooling2d_22 (MaxPooling2D) (None, 9, 2, 256)    0           concatenate_14[0][0]             \n",
            "__________________________________________________________________________________________________\n",
            "conv2d_116 (Conv2D)             (None, 9, 2, 128)    110720      conv2d_115[0][0]                 \n",
            "__________________________________________________________________________________________________\n",
            "conv2d_119 (Conv2D)             (None, 9, 2, 32)     9248        conv2d_118[0][0]                 \n",
            "__________________________________________________________________________________________________\n",
            "conv2d_120 (Conv2D)             (None, 9, 2, 32)     8224        max_pooling2d_22[0][0]           \n",
            "__________________________________________________________________________________________________\n",
            "conv2d_121 (Conv2D)             (None, 9, 2, 64)     16448       concatenate_14[0][0]             \n",
            "__________________________________________________________________________________________________\n",
            "concatenate_15 (Concatenate)    (None, 9, 2, 256)    0           conv2d_116[0][0]                 \n",
            "                                                                 conv2d_119[0][0]                 \n",
            "                                                                 conv2d_120[0][0]                 \n",
            "                                                                 conv2d_121[0][0]                 \n",
            "__________________________________________________________________________________________________\n",
            "conv2d_124 (Conv2D)             (None, 9, 2, 16)     4112        concatenate_15[0][0]             \n",
            "__________________________________________________________________________________________________\n",
            "conv2d_122 (Conv2D)             (None, 9, 2, 96)     24672       concatenate_15[0][0]             \n",
            "__________________________________________________________________________________________________\n",
            "conv2d_125 (Conv2D)             (None, 9, 2, 32)     4640        conv2d_124[0][0]                 \n",
            "__________________________________________________________________________________________________\n",
            "max_pooling2d_23 (MaxPooling2D) (None, 9, 2, 256)    0           concatenate_15[0][0]             \n",
            "__________________________________________________________________________________________________\n",
            "conv2d_123 (Conv2D)             (None, 9, 2, 128)    110720      conv2d_122[0][0]                 \n",
            "__________________________________________________________________________________________________\n",
            "conv2d_126 (Conv2D)             (None, 9, 2, 32)     9248        conv2d_125[0][0]                 \n",
            "__________________________________________________________________________________________________\n",
            "conv2d_127 (Conv2D)             (None, 9, 2, 32)     8224        max_pooling2d_23[0][0]           \n",
            "__________________________________________________________________________________________________\n",
            "conv2d_128 (Conv2D)             (None, 9, 2, 64)     16448       concatenate_15[0][0]             \n",
            "__________________________________________________________________________________________________\n",
            "concatenate_16 (Concatenate)    (None, 9, 2, 256)    0           conv2d_123[0][0]                 \n",
            "                                                                 conv2d_126[0][0]                 \n",
            "                                                                 conv2d_127[0][0]                 \n",
            "                                                                 conv2d_128[0][0]                 \n",
            "__________________________________________________________________________________________________\n",
            "max_pooling2d_24 (MaxPooling2D) (None, 5, 1, 256)    0           concatenate_16[0][0]             \n",
            "__________________________________________________________________________________________________\n",
            "dropout_3 (Dropout)             (None, 5, 1, 256)    0           max_pooling2d_24[0][0]           \n",
            "__________________________________________________________________________________________________\n",
            "conv2d_131 (Conv2D)             (None, 5, 1, 16)     4112        dropout_3[0][0]                  \n",
            "__________________________________________________________________________________________________\n",
            "conv2d_129 (Conv2D)             (None, 5, 1, 96)     24672       dropout_3[0][0]                  \n",
            "__________________________________________________________________________________________________\n",
            "conv2d_132 (Conv2D)             (None, 5, 1, 32)     4640        conv2d_131[0][0]                 \n",
            "__________________________________________________________________________________________________\n",
            "max_pooling2d_25 (MaxPooling2D) (None, 5, 1, 256)    0           dropout_3[0][0]                  \n",
            "__________________________________________________________________________________________________\n",
            "conv2d_130 (Conv2D)             (None, 5, 1, 128)    110720      conv2d_129[0][0]                 \n",
            "__________________________________________________________________________________________________\n",
            "conv2d_133 (Conv2D)             (None, 5, 1, 32)     9248        conv2d_132[0][0]                 \n",
            "__________________________________________________________________________________________________\n",
            "conv2d_134 (Conv2D)             (None, 5, 1, 32)     8224        max_pooling2d_25[0][0]           \n",
            "__________________________________________________________________________________________________\n",
            "conv2d_135 (Conv2D)             (None, 5, 1, 64)     16448       dropout_3[0][0]                  \n",
            "__________________________________________________________________________________________________\n",
            "concatenate_17 (Concatenate)    (None, 5, 1, 256)    0           conv2d_130[0][0]                 \n",
            "                                                                 conv2d_133[0][0]                 \n",
            "                                                                 conv2d_134[0][0]                 \n",
            "                                                                 conv2d_135[0][0]                 \n",
            "__________________________________________________________________________________________________\n",
            "conv2d_138 (Conv2D)             (None, 5, 1, 16)     4112        concatenate_17[0][0]             \n",
            "__________________________________________________________________________________________________\n",
            "conv2d_136 (Conv2D)             (None, 5, 1, 96)     24672       concatenate_17[0][0]             \n",
            "__________________________________________________________________________________________________\n",
            "conv2d_139 (Conv2D)             (None, 5, 1, 32)     4640        conv2d_138[0][0]                 \n",
            "__________________________________________________________________________________________________\n",
            "max_pooling2d_26 (MaxPooling2D) (None, 5, 1, 256)    0           concatenate_17[0][0]             \n",
            "__________________________________________________________________________________________________\n",
            "conv2d_137 (Conv2D)             (None, 5, 1, 128)    110720      conv2d_136[0][0]                 \n",
            "__________________________________________________________________________________________________\n",
            "conv2d_140 (Conv2D)             (None, 5, 1, 32)     9248        conv2d_139[0][0]                 \n",
            "__________________________________________________________________________________________________\n",
            "conv2d_141 (Conv2D)             (None, 5, 1, 32)     8224        max_pooling2d_26[0][0]           \n",
            "__________________________________________________________________________________________________\n",
            "conv2d_142 (Conv2D)             (None, 5, 1, 64)     16448       concatenate_17[0][0]             \n",
            "__________________________________________________________________________________________________\n",
            "concatenate_18 (Concatenate)    (None, 5, 1, 256)    0           conv2d_137[0][0]                 \n",
            "                                                                 conv2d_140[0][0]                 \n",
            "                                                                 conv2d_141[0][0]                 \n",
            "                                                                 conv2d_142[0][0]                 \n",
            "__________________________________________________________________________________________________\n",
            "conv2d_145 (Conv2D)             (None, 5, 1, 16)     4112        concatenate_18[0][0]             \n",
            "__________________________________________________________________________________________________\n",
            "conv2d_143 (Conv2D)             (None, 5, 1, 96)     24672       concatenate_18[0][0]             \n",
            "__________________________________________________________________________________________________\n",
            "conv2d_146 (Conv2D)             (None, 5, 1, 32)     4640        conv2d_145[0][0]                 \n",
            "__________________________________________________________________________________________________\n",
            "max_pooling2d_27 (MaxPooling2D) (None, 5, 1, 256)    0           concatenate_18[0][0]             \n",
            "__________________________________________________________________________________________________\n",
            "conv2d_144 (Conv2D)             (None, 5, 1, 128)    110720      conv2d_143[0][0]                 \n",
            "__________________________________________________________________________________________________\n",
            "conv2d_147 (Conv2D)             (None, 5, 1, 32)     9248        conv2d_146[0][0]                 \n",
            "__________________________________________________________________________________________________\n",
            "conv2d_148 (Conv2D)             (None, 5, 1, 32)     8224        max_pooling2d_27[0][0]           \n",
            "__________________________________________________________________________________________________\n",
            "conv2d_149 (Conv2D)             (None, 5, 1, 64)     16448       concatenate_18[0][0]             \n",
            "__________________________________________________________________________________________________\n",
            "concatenate_19 (Concatenate)    (None, 5, 1, 256)    0           conv2d_144[0][0]                 \n",
            "                                                                 conv2d_147[0][0]                 \n",
            "                                                                 conv2d_148[0][0]                 \n",
            "                                                                 conv2d_149[0][0]                 \n",
            "__________________________________________________________________________________________________\n",
            "average_pooling2d_1 (AveragePoo (None, 2, 1, 256)    0           concatenate_19[0][0]             \n",
            "__________________________________________________________________________________________________\n",
            "conv2d_150 (Conv2D)             (None, 2, 1, 128)    32896       average_pooling2d_1[0][0]        \n",
            "__________________________________________________________________________________________________\n",
            "flatten_1 (Flatten)             (None, 256)          0           conv2d_150[0][0]                 \n",
            "__________________________________________________________________________________________________\n",
            "dense_3 (Dense)                 (None, 512)          131584      flatten_1[0][0]                  \n",
            "__________________________________________________________________________________________________\n",
            "dense_4 (Dense)                 (None, 512)          262656      dense_3[0][0]                    \n",
            "__________________________________________________________________________________________________\n",
            "dropout_5 (Dropout)             (None, 512)          0           dense_4[0][0]                    \n",
            "__________________________________________________________________________________________________\n",
            "dense_5 (Dense)                 (None, 4)            2052        dropout_5[0][0]                  \n",
            "==================================================================================================\n",
            "Total params: 2,314,916\n",
            "Trainable params: 2,314,788\n",
            "Non-trainable params: 128\n",
            "__________________________________________________________________________________________________\n",
            "Epoch 1/200\n",
            "121/121 [==============================] - ETA: 0s - loss: 1.1942 - accuracy: 0.5218\n",
            "Epoch 00001: val_accuracy improved from -inf to 0.61754, saving model to /content/drive/My Drive/Good Models/PMEmo_Model-best-model-accuracy-inception-v1_Aux2.h5\n",
            "121/121 [==============================] - 6s 49ms/step - loss: 1.1942 - accuracy: 0.5218 - val_loss: 1.1123 - val_accuracy: 0.6175\n",
            "Epoch 2/200\n",
            "121/121 [==============================] - ETA: 0s - loss: 1.0158 - accuracy: 0.6512\n",
            "Epoch 00002: val_accuracy improved from 0.61754 to 0.65497, saving model to /content/drive/My Drive/Good Models/PMEmo_Model-best-model-accuracy-inception-v1_Aux2.h5\n",
            "121/121 [==============================] - 4s 37ms/step - loss: 1.0158 - accuracy: 0.6512 - val_loss: 1.0692 - val_accuracy: 0.6550\n",
            "Epoch 3/200\n",
            "121/121 [==============================] - ETA: 0s - loss: 0.9820 - accuracy: 0.6638\n",
            "Epoch 00003: val_accuracy did not improve from 0.65497\n",
            "121/121 [==============================] - 4s 35ms/step - loss: 0.9820 - accuracy: 0.6638 - val_loss: 1.1287 - val_accuracy: 0.6094\n",
            "Epoch 4/200\n",
            "121/121 [==============================] - ETA: 0s - loss: 0.9637 - accuracy: 0.6660\n",
            "Epoch 00004: val_accuracy did not improve from 0.65497\n",
            "121/121 [==============================] - 4s 35ms/step - loss: 0.9637 - accuracy: 0.6660 - val_loss: 1.0582 - val_accuracy: 0.6538\n",
            "Epoch 5/200\n",
            "120/121 [============================>.] - ETA: 0s - loss: 0.9472 - accuracy: 0.6732\n",
            "Epoch 00005: val_accuracy improved from 0.65497 to 0.66784, saving model to /content/drive/My Drive/Good Models/PMEmo_Model-best-model-accuracy-inception-v1_Aux2.h5\n",
            "121/121 [==============================] - 5s 39ms/step - loss: 0.9471 - accuracy: 0.6730 - val_loss: 1.0501 - val_accuracy: 0.6678\n",
            "Epoch 6/200\n",
            "121/121 [==============================] - ETA: 0s - loss: 0.9249 - accuracy: 0.6806\n",
            "Epoch 00006: val_accuracy did not improve from 0.66784\n",
            "121/121 [==============================] - 4s 35ms/step - loss: 0.9249 - accuracy: 0.6806 - val_loss: 0.9958 - val_accuracy: 0.6526\n",
            "Epoch 7/200\n",
            "121/121 [==============================] - ETA: 0s - loss: 0.9145 - accuracy: 0.6829\n",
            "Epoch 00007: val_accuracy did not improve from 0.66784\n",
            "121/121 [==============================] - 4s 35ms/step - loss: 0.9145 - accuracy: 0.6829 - val_loss: 1.0962 - val_accuracy: 0.6526\n",
            "Epoch 8/200\n",
            "120/121 [============================>.] - ETA: 0s - loss: 0.9015 - accuracy: 0.6845\n",
            "Epoch 00008: val_accuracy improved from 0.66784 to 0.67836, saving model to /content/drive/My Drive/Good Models/PMEmo_Model-best-model-accuracy-inception-v1_Aux2.h5\n",
            "121/121 [==============================] - 5s 40ms/step - loss: 0.9020 - accuracy: 0.6841 - val_loss: 1.0218 - val_accuracy: 0.6784\n",
            "Epoch 9/200\n",
            "121/121 [==============================] - ETA: 0s - loss: 0.8926 - accuracy: 0.6881\n",
            "Epoch 00009: val_accuracy improved from 0.67836 to 0.68772, saving model to /content/drive/My Drive/Good Models/PMEmo_Model-best-model-accuracy-inception-v1_Aux2.h5\n",
            "121/121 [==============================] - 4s 37ms/step - loss: 0.8926 - accuracy: 0.6881 - val_loss: 1.0278 - val_accuracy: 0.6877\n",
            "Epoch 10/200\n",
            "121/121 [==============================] - ETA: 0s - loss: 0.8840 - accuracy: 0.6899\n",
            "Epoch 00010: val_accuracy did not improve from 0.68772\n",
            "121/121 [==============================] - 4s 34ms/step - loss: 0.8840 - accuracy: 0.6899 - val_loss: 0.9806 - val_accuracy: 0.6690\n",
            "Epoch 11/200\n",
            "121/121 [==============================] - ETA: 0s - loss: 0.8673 - accuracy: 0.6967\n",
            "Epoch 00011: val_accuracy did not improve from 0.68772\n",
            "121/121 [==============================] - 4s 34ms/step - loss: 0.8673 - accuracy: 0.6967 - val_loss: 0.9308 - val_accuracy: 0.6877\n",
            "Epoch 12/200\n",
            "121/121 [==============================] - ETA: 0s - loss: 0.8540 - accuracy: 0.6994\n",
            "Epoch 00012: val_accuracy did not improve from 0.68772\n",
            "121/121 [==============================] - 4s 34ms/step - loss: 0.8540 - accuracy: 0.6994 - val_loss: 1.0192 - val_accuracy: 0.6550\n",
            "Epoch 13/200\n",
            "121/121 [==============================] - ETA: 0s - loss: 0.8519 - accuracy: 0.7027\n",
            "Epoch 00013: val_accuracy did not improve from 0.68772\n",
            "121/121 [==============================] - 4s 34ms/step - loss: 0.8519 - accuracy: 0.7027 - val_loss: 0.9471 - val_accuracy: 0.6772\n",
            "Epoch 14/200\n",
            "121/121 [==============================] - ETA: 0s - loss: 0.8292 - accuracy: 0.7058\n",
            "Epoch 00014: val_accuracy did not improve from 0.68772\n",
            "121/121 [==============================] - 4s 34ms/step - loss: 0.8292 - accuracy: 0.7058 - val_loss: 0.9862 - val_accuracy: 0.6632\n",
            "Epoch 15/200\n",
            "121/121 [==============================] - ETA: 0s - loss: 0.8237 - accuracy: 0.7102\n",
            "Epoch 00015: val_accuracy did not improve from 0.68772\n",
            "121/121 [==============================] - 4s 34ms/step - loss: 0.8237 - accuracy: 0.7102 - val_loss: 1.0106 - val_accuracy: 0.6246\n",
            "Epoch 16/200\n",
            "121/121 [==============================] - ETA: 0s - loss: 0.8127 - accuracy: 0.7131\n",
            "Epoch 00016: val_accuracy did not improve from 0.68772\n",
            "121/121 [==============================] - 4s 35ms/step - loss: 0.8127 - accuracy: 0.7131 - val_loss: 1.2404 - val_accuracy: 0.5778\n",
            "Epoch 17/200\n",
            "120/121 [============================>.] - ETA: 0s - loss: 0.7987 - accuracy: 0.7154\n",
            "Epoch 00017: val_accuracy did not improve from 0.68772\n",
            "121/121 [==============================] - 4s 34ms/step - loss: 0.7994 - accuracy: 0.7151 - val_loss: 0.9974 - val_accuracy: 0.6854\n",
            "Epoch 18/200\n",
            "121/121 [==============================] - ETA: 0s - loss: 0.7869 - accuracy: 0.7171\n",
            "Epoch 00018: val_accuracy did not improve from 0.68772\n",
            "121/121 [==============================] - 4s 34ms/step - loss: 0.7869 - accuracy: 0.7171 - val_loss: 0.9083 - val_accuracy: 0.6725\n",
            "Epoch 19/200\n",
            "121/121 [==============================] - ETA: 0s - loss: 0.7746 - accuracy: 0.7198\n",
            "Epoch 00019: val_accuracy did not improve from 0.68772\n",
            "121/121 [==============================] - 4s 34ms/step - loss: 0.7746 - accuracy: 0.7198 - val_loss: 0.9551 - val_accuracy: 0.6725\n"
          ],
          "name": "stdout"
        }
      ]
    },
    {
      "cell_type": "markdown",
      "metadata": {
        "id": "Z3_KT4CGlonQ",
        "colab_type": "text"
      },
      "source": [
        "\n",
        "# Plots and Predictions (The Fun Part)"
      ]
    },
    {
      "cell_type": "code",
      "metadata": {
        "id": "1yu7sEiqaNnT",
        "colab_type": "code",
        "colab": {
          "base_uri": "https://localhost:8080/",
          "height": 285
        },
        "outputId": "50e658be-7211-4b7e-fe83-4038b82d9031"
      },
      "source": [
        "viz_history(history)"
      ],
      "execution_count": null,
      "outputs": [
        {
          "output_type": "display_data",
          "data": {
            "image/png": "[encoded data removed]",
            "text/plain": [
              "<Figure size 720x288 with 2 Axes>"
            ]
          },
          "metadata": {
            "tags": [],
            "needs_background": "light"
          }
        }
      ]
    },
    {
      "cell_type": "code",
      "metadata": {
        "id": "wJyd1XWkRPvL",
        "colab_type": "code",
        "colab": {}
      },
      "source": [
        "model = load_model(\"/content/drive/My Drive/Good Models/PMEmo_Model-best-model-accuracy-inception-v1_Aux2.h5\")"
      ],
      "execution_count": null,
      "outputs": []
    },
    {
      "cell_type": "code",
      "metadata": {
        "id": "qzB3Ed1QOEaM",
        "colab_type": "code",
        "colab": {
          "base_uri": "https://localhost:8080/",
          "height": 34
        },
        "outputId": "520f0928-2bed-4691-8b1b-56237559202f"
      },
      "source": [
        "predict_AER(X_test[0])"
      ],
      "execution_count": null,
      "outputs": [
        {
          "output_type": "stream",
          "text": [
            "The predicted mood is: Happy\n"
          ],
          "name": "stdout"
        }
      ]
    },
    {
      "cell_type": "code",
      "metadata": {
        "id": "4ithM882Okyw",
        "colab_type": "code",
        "colab": {
          "base_uri": "https://localhost:8080/",
          "height": 248
        },
        "outputId": "ce0c79a4-f229-4c16-ae3f-2c8e9e6ae14c"
      },
      "source": [
        "metrics_all(model,X_test,y_test)"
      ],
      "execution_count": null,
      "outputs": [
        {
          "output_type": "stream",
          "text": [
            "Accuracy: 0.687368\n",
            "Precision: 0.546986\n",
            "Recall: 0.687368\n",
            "F1 score: 0.609190\n",
            "\n",
            "The confusion matrix is as below:\n",
            "[[311  53   0   0]\n",
            " [ 50 342   0   0]\n",
            " [ 29  61   0   0]\n",
            " [ 65  39   0   0]]\n"
          ],
          "name": "stdout"
        },
        {
          "output_type": "stream",
          "text": [
            "/usr/local/lib/python3.6/dist-packages/sklearn/metrics/_classification.py:1272: UndefinedMetricWarning: Precision is ill-defined and being set to 0.0 in labels with no predicted samples. Use `zero_division` parameter to control this behavior.\n",
            "  _warn_prf(average, modifier, msg_start, len(result))\n"
          ],
          "name": "stderr"
        }
      ]
    },
    {
      "cell_type": "code",
      "metadata": {
        "id": "3-3wCdhwQa98",
        "colab_type": "code",
        "colab": {
          "base_uri": "https://localhost:8080/",
          "height": 298
        },
        "outputId": "1cb999b7-5cf4-4f18-c00f-d08d7df2b0af"
      },
      "source": [
        "yhat_probs = model.predict(X_test, verbose=0)\n",
        "yhat_classes = np.argmax(yhat_probs, axis =1)\n",
        "\n",
        "accuracy_per_class (yhat_classes, y_test)"
      ],
      "execution_count": null,
      "outputs": [
        {
          "output_type": "stream",
          "text": [
            "Class: Happy\n",
            "Accuracy: 311/364\n",
            "Accuracy (Percentage):  85.43956043956044 %\n",
            "\n",
            "Class: Sad\n",
            "Accuracy: 342/392\n",
            "Accuracy (Percentage):  87.24489795918367 %\n",
            "\n",
            "Class: Relaxed\n",
            "Accuracy: 0/90\n",
            "Accuracy (Percentage):  0.0 %\n",
            "\n",
            "Class: Angry\n",
            "Accuracy: 0/104\n",
            "Accuracy (Percentage):  0.0 %\n",
            "\n"
          ],
          "name": "stdout"
        }
      ]
    },
    {
      "cell_type": "code",
      "metadata": {
        "id": "1r0FPR2DVcPf",
        "colab_type": "code",
        "colab": {
          "base_uri": "https://localhost:8080/",
          "height": 34
        },
        "outputId": "9e67821f-87d4-44f7-fbba-5e5aa239131e"
      },
      "source": [
        "mapping"
      ],
      "execution_count": null,
      "outputs": [
        {
          "output_type": "execute_result",
          "data": {
            "text/plain": [
              "['Happy', 'Sad', 'Relaxed', 'Angry']"
            ]
          },
          "metadata": {
            "tags": []
          },
          "execution_count": 53
        }
      ]
    },
    {
      "cell_type": "code",
      "metadata": {
        "id": "zYBjMBFWVfWA",
        "colab_type": "code",
        "colab": {
          "base_uri": "https://localhost:8080/",
          "height": 70
        },
        "outputId": "3c843c62-ece2-4ee9-c2da-84c0d92c5e25"
      },
      "source": [
        "musicId[0:39]"
      ],
      "execution_count": null,
      "outputs": [
        {
          "output_type": "execute_result",
          "data": {
            "text/plain": [
              "array([908, 908, 908, 908, 908, 908, 908, 908, 908, 908, 908, 908, 908,\n",
              "       908, 908, 908, 908, 908, 908, 908, 765, 765, 765, 765, 765, 765,\n",
              "       765, 765, 765, 765, 765, 765, 765, 765, 765, 765, 765, 765, 765])"
            ]
          },
          "metadata": {
            "tags": []
          },
          "execution_count": 57
        }
      ]
    },
    {
      "cell_type": "code",
      "metadata": {
        "id": "A9I5QMf1Vhq6",
        "colab_type": "code",
        "colab": {}
      },
      "source": [
        ""
      ],
      "execution_count": null,
      "outputs": []
    }
  ]
}